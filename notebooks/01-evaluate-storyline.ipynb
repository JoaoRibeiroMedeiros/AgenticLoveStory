{
 "cells": [
  {
   "cell_type": "markdown",
   "metadata": {},
   "source": [
    "# Storyline Evaluation\n",
    "\n",
    "Develop a Python-based solution with agentic behavior, leveraging an LLM model for reasoning, to evaluate the storyline of a prospective storyline. provide actionable insights.\n",
    "\n",
    "### Evaluation Criteria\n",
    "\n",
    "1. **Summary of the Storyline**  \n",
    "   A concise overview of the plot, including the main character(s), setting, and key events.\n",
    "\n",
    "2. **Main Themes/Genres**  \n",
    "   Identification of the central themes (e.g., love, adventure, redemption) and the genres (e.g., drama, comedy, thriller) that the storyline fits into.\n",
    "\n",
    "3. **Character Development**  \n",
    "   Analysis of how well the characters are developed, their arcs, motivations, and relationships.\n",
    "\n",
    "4. **Conflict and Resolution**  \n",
    "   Examination of the central conflict and how it drives the story, along with the effectiveness of the resolution.\n",
    "\n",
    "5. **Pacing and Structure**  \n",
    "   Assessment of the pacing of the storyline, including the balance of action, dialogue, and exposition, as well as the structural elements (e.g., acts, scenes).\n",
    "\n",
    "6. **Positive Aspects of the Storyline**  \n",
    "   Highlights of what works well in the storyline, such as originality, emotional impact, and engaging dialogue.\n",
    "\n",
    "7. **Areas for Improvement**  \n",
    "   Identification of elements that could be enhanced, such as character motivation, plot coherence, or thematic depth.\n",
    "\n",
    "8. **Marketability**  \n",
    "   An analysis of the potential market appeal of the story, including trends in the industry and comparable successful films.\n",
    "\n"
   ]
  },
  {
   "cell_type": "code",
   "execution_count": 114,
   "metadata": {},
   "outputs": [
    {
     "name": "stdout",
     "output_type": "stream",
     "text": [
      "The autoreload extension is already loaded. To reload it, use:\n",
      "  %reload_ext autoreload\n"
     ]
    }
   ],
   "source": [
    "%load_ext autoreload\n",
    "%autoreload 2\n",
    "\n",
    "from langchain_aws import BedrockLLM\n",
    "from langchain.prompts import PromptTemplate\n",
    "from langchain.chains import LLMChain\n",
    "from pydantic import BaseModel, Field\n",
    "import os\n",
    "import json\n",
    "from langsmith import traceable\n",
    "\n",
    "from src.read import ReadState\n",
    "from src.read import get_initial_state\n",
    "from src.workflow import WorkflowManager, display_outputs\n"
   ]
  },
  {
   "cell_type": "code",
   "execution_count": 115,
   "metadata": {},
   "outputs": [],
   "source": []
  },
  {
   "cell_type": "code",
   "execution_count": 116,
   "metadata": {},
   "outputs": [],
   "source": [
    "initial_state = get_initial_state(storyline_1)"
   ]
  },
  {
   "cell_type": "code",
   "execution_count": 117,
   "metadata": {},
   "outputs": [],
   "source": [
    "workflow = WorkflowManager()\n",
    "readflow = workflow.invoke(initial_state)"
   ]
  },
  {
   "cell_type": "code",
   "execution_count": 110,
   "metadata": {},
   "outputs": [
    {
     "data": {
      "text/markdown": [
       "### Summary"
      ],
      "text/plain": [
       "<IPython.core.display.Markdown object>"
      ]
     },
     "metadata": {},
     "output_type": "display_data"
    },
    {
     "data": {
      "text/markdown": [
       "In this intriguing tale, a young and ambitious scientist creates a groundbreaking time machine, driven by his curiosity and desire to explore the unknown. However, his invention inadvertently transports him back to the year 1920, a time vastly different from his own. Stranded in the past, he faces numerous challenges as he attempts to adapt to the unfamiliar social norms, technology, and culture of the early 20th century.\n",
       "\n",
       "As he navigates this new world, the scientist encounters a variety of people who shape his journey. He befriends a local inventor who shares his passion for innovation, and together they work on repairing the time machine. Through their collaboration, the young scientist gains a deeper appreciation for the ingenuity and resourcefulness required in an era without modern conveniences.\n",
       "\n",
       "During his stay, he also meets a spirited young woman who challenges his perspectives and broadens his understanding of life beyond science. Their interactions teach him the importance of human connection, empathy, and the value of living in the moment. These experiences force him to confront his own shortcomings and reevaluate his priorities.\n",
       "\n",
       "As he struggles to find a way back to his own time, the scientist learns crucial lessons about resilience, adaptability, and the significance of history in shaping the present. He discovers that while technological advancement is important, it is equally vital to cherish the relationships and experiences that define one's life.\n",
       "\n",
       "Eventually, with the help of his newfound friends, the scientist manages to repair the time machine. As he prepares to return to his own era, he carries with him a newfound wisdom and appreciation for the world he left behind. The journey back to the present is not just a physical return, but a transformative experience that profoundly impacts his outlook on life.\n",
       "\n",
       "Upon his return, the young scientist applies the lessons he learned in the past to his present life, fostering stronger relationships and a more balanced approach to his work. His adventure in 1920 serves as a poignant reminder of the timeless values of friendship, perseverance, and the enduring impact of history on the future."
      ],
      "text/plain": [
       "<IPython.core.display.Markdown object>"
      ]
     },
     "metadata": {},
     "output_type": "display_data"
    },
    {
     "data": {
      "text/markdown": [
       "### Main themes"
      ],
      "text/plain": [
       "<IPython.core.display.Markdown object>"
      ]
     },
     "metadata": {},
     "output_type": "display_data"
    },
    {
     "data": {
      "text/markdown": [
       "Main themes in this storyline include the clash between past and present, the journey of self-discovery, and the quest for knowledge. The protagonist's struggle to adapt to the 1920s highlights themes of resilience and adaptability. A rare theme that differentiates this storyline is the exploration of scientific innovation's unintended consequences, as the young scientist's invention leads to unexpected personal growth and insights into his own time."
      ],
      "text/plain": [
       "<IPython.core.display.Markdown object>"
      ]
     },
     "metadata": {},
     "output_type": "display_data"
    },
    {
     "data": {
      "text/markdown": [
       "### Character development"
      ],
      "text/plain": [
       "<IPython.core.display.Markdown object>"
      ]
     },
     "metadata": {},
     "output_type": "display_data"
    },
    {
     "data": {
      "text/markdown": [
       "The young scientist is characterized by curiosity, intelligence, and determination. His consistent traits include problem-solving skills and adaptability, as he navigates the unfamiliar 1920s. Unique characteristics include his innovative thinking, exemplified by inventing a time machine. His character arc involves growth through learning from the past, gaining insights that enrich his understanding of his present life."
      ],
      "text/plain": [
       "<IPython.core.display.Markdown object>"
      ]
     },
     "metadata": {},
     "output_type": "display_data"
    },
    {
     "data": {
      "text/markdown": [
       "### Conflict resolution"
      ],
      "text/plain": [
       "<IPython.core.display.Markdown object>"
      ]
     },
     "metadata": {},
     "output_type": "display_data"
    },
    {
     "data": {
      "text/markdown": [
       "The central conflict is the young scientist's struggle to return to his own time after accidentally traveling to 1920. The main sources of tension include adapting to the past's technological limitations and societal norms, and finding a way to repair or recreate the time machine. The resolution occurs when he successfully returns, having gained insights into his present life. This resolution is effective as it not only resolves the immediate conflict but also enriches the character's personal growth, enhancing the overall narrative by highlighting themes of adaptability and self-discovery."
      ],
      "text/plain": [
       "<IPython.core.display.Markdown object>"
      ]
     },
     "metadata": {},
     "output_type": "display_data"
    },
    {
     "data": {
      "text/markdown": [
       "### Pacing and structure"
      ],
      "text/plain": [
       "<IPython.core.display.Markdown object>"
      ]
     },
     "metadata": {},
     "output_type": "display_data"
    },
    {
     "data": {
      "text/markdown": [
       "Key moments influencing the story's rhythm include the initial accidental time travel, which heightens tension, and the scientist's encounters with the local inventor and spirited young woman, which provide necessary breaks and character development. The collaboration on repairing the time machine and the protagonist's personal growth moments maintain engagement. The structure, with its balance of tension and introspection, ensures a smooth narrative flow, keeping the audience invested in the scientist's journey. However, the storyline could benefit from more exploration of the scientific innovation theme and its broader implications."
      ],
      "text/plain": [
       "<IPython.core.display.Markdown object>"
      ]
     },
     "metadata": {},
     "output_type": "display_data"
    },
    {
     "data": {
      "text/markdown": [
       "### Pros"
      ],
      "text/plain": [
       "<IPython.core.display.Markdown object>"
      ]
     },
     "metadata": {},
     "output_type": "display_data"
    },
    {
     "data": {
      "text/markdown": [
       "The storyline of a young scientist accidentally traveling back to 1920 and navigating the challenges of the past is rich with positive elements that enhance the narrative. Here are some of the strengths and elements that work well:\n",
       "\n",
       "1. **Engaging Premise**: The concept of time travel is inherently intriguing and offers a fresh take by focusing on the unintended consequences of scientific innovation. This sets the stage for a compelling narrative that explores both the excitement and challenges of such an adventure.\n",
       "\n",
       "2. **Character Development**: The protagonist's journey is marked by significant personal growth. His initial traits of curiosity, intelligence, and determination are tested and expanded as he learns to adapt to a world without modern conveniences. This character arc is well-developed, showing his transformation from a purely scientific mindset to a more holistic understanding of life.\n",
       "\n",
       "3. **Themes of Resilience and Adaptability**: The storyline effectively highlights the themes of resilience and adaptability as the young scientist navigates the unfamiliar 1920s. These themes are universal and resonate with audiences, making the narrative relatable and inspiring.\n",
       "\n",
       "4. **Exploration of Human Connection**: The interactions with a spirited young woman and a local inventor add depth to the story. These relationships challenge the protagonist's perspectives and emphasize the importance of empathy, human connection, and living in the moment. This adds emotional weight to the narrative and enriches the protagonist's journey of self-discovery.\n",
       "\n",
       "5. **Historical Context**: The setting of 1920 provides a rich backdrop for the story, allowing for exploration of historical social norms, technology, and culture. This not only adds authenticity but also serves as a contrast to the protagonist's own time, highlighting the significance of history in shaping the present.\n",
       "\n",
       "6. **Conflict Resolution**: The resolution of the central conflict—returning to his own time—is satisfying and meaningful. It not only resolves the immediate issue but also leaves the protagonist with valuable insights that he applies to his present life. This reinforces the themes of personal growth and the enduring impact of history.\n",
       "\n",
       "7. **Balanced Pacing and Structure**: The narrative is well-paced, with a clear structure that maintains tension and engagement throughout. The protagonist's journey is marked by a series of challenges and learning experiences that build towards a transformative resolution.\n",
       "\n",
       "Overall, the storyline effectively combines elements of science fiction, historical exploration, and personal growth, creating a narrative that is both entertaining and thought-provoking. The strengths lie in its engaging premise, well-developed character arc, and exploration of timeless themes, making it a compelling tale of adventure and self-discovery."
      ],
      "text/plain": [
       "<IPython.core.display.Markdown object>"
      ]
     },
     "metadata": {},
     "output_type": "display_data"
    },
    {
     "data": {
      "text/markdown": [
       "### Cons"
      ],
      "text/plain": [
       "<IPython.core.display.Markdown object>"
      ]
     },
     "metadata": {},
     "output_type": "display_data"
    },
    {
     "data": {
      "text/markdown": [
       "Here are some negative points in the storyline that could be seen as opportunities for improvement:\n",
       "\n",
       "1. **Lack of Initial Conflict or Motivation**: The story begins with the young scientist inventing a time machine, but there is little explanation of his initial motivation or the stakes involved. Adding a clear reason for his invention, such as a personal or professional goal, could enhance the narrative's depth and provide a stronger foundation for his journey.\n",
       "\n",
       "2. **Underdeveloped Supporting Characters**: While the young scientist meets a local inventor and a spirited young woman, their characters could be more fleshed out. Providing them with distinct backstories, motivations, and arcs would enrich the story and make their influence on the protagonist more impactful.\n",
       "\n",
       "3. **Predictable Plot Progression**: The storyline follows a somewhat predictable arc of accidental time travel, adaptation, learning, and return. Introducing unexpected twists or challenges could add intrigue and maintain reader engagement.\n",
       "\n",
       "4. **Limited Exploration of 1920s Setting**: The setting of the 1920s offers rich historical and cultural context that is not fully explored. Delving deeper into the era's specific events, societal issues, or technological advancements could provide a more immersive experience and highlight the contrast between past and present.\n",
       "\n",
       "5. **Superficial Treatment of Themes**: While themes of resilience, adaptability, and the clash between past and present are present, they could be explored in greater depth. For instance, the unintended consequences of scientific innovation could be examined more critically, offering a nuanced perspective on the protagonist's journey.\n",
       "\n",
       "6. **Abrupt Resolution**: The resolution, where the scientist repairs the time machine and returns to his own time, feels somewhat rushed. Expanding on the process of repairing the machine and the emotional weight of leaving his newfound friends could provide a more satisfying conclusion.\n",
       "\n",
       "7. **Lack of Internal Conflict**: The protagonist's internal conflict is not deeply explored. Highlighting his internal struggles, such as doubts about his scientific pursuits or personal relationships, could add complexity to his character development.\n",
       "\n",
       "8. **Missed Opportunities for Symbolism**: The time machine itself could serve as a powerful symbol of the protagonist's journey and growth. Incorporating symbolic elements related to time, change, or innovation could enhance the story's thematic richness.\n",
       "\n",
       "By addressing these points, the storyline could become more engaging, nuanced, and emotionally resonant, offering a more compelling narrative experience."
      ],
      "text/plain": [
       "<IPython.core.display.Markdown object>"
      ]
     },
     "metadata": {},
     "output_type": "display_data"
    },
    {
     "data": {
      "text/markdown": [
       "### Marketability"
      ],
      "text/plain": [
       "<IPython.core.display.Markdown object>"
      ]
     },
     "metadata": {},
     "output_type": "display_data"
    },
    {
     "data": {
      "text/markdown": [
       "The storyline's marketability lies in its blend of science fiction and historical drama, appealing to audiences interested in time travel and personal growth. Key elements include the protagonist's journey of self-discovery, the clash between past and present, and the exploration of unintended consequences of innovation. Challenges include ensuring historical accuracy and avoiding clichés in time travel narratives. The character development and resolution offer depth, but the story might benefit from more unique plot twists to stand out in a crowded genre."
      ],
      "text/plain": [
       "<IPython.core.display.Markdown object>"
      ]
     },
     "metadata": {},
     "output_type": "display_data"
    },
    {
     "data": {
      "text/markdown": [
       "### Story line"
      ],
      "text/plain": [
       "<IPython.core.display.Markdown object>"
      ]
     },
     "metadata": {},
     "output_type": "display_data"
    },
    {
     "data": {
      "text/markdown": [
       "A young scientist invents a time machine and accidentally \n",
       "            travels back to the year 1920, where he must navigate the challenges \n",
       "            of the past while trying to return to his own time, \n",
       "            ultimately learning valuable lessons about his present life."
      ],
      "text/plain": [
       "<IPython.core.display.Markdown object>"
      ]
     },
     "metadata": {},
     "output_type": "display_data"
    }
   ],
   "source": [
    "display_outputs(readflow)"
   ]
  },
  {
   "cell_type": "code",
   "execution_count": null,
   "metadata": {},
   "outputs": [],
   "source": []
  }
 ],
 "metadata": {
  "kernelspec": {
   "display_name": ".env",
   "language": "python",
   "name": "python3"
  },
  "language_info": {
   "codemirror_mode": {
    "name": "ipython",
    "version": 3
   },
   "file_extension": ".py",
   "mimetype": "text/x-python",
   "name": "python",
   "nbconvert_exporter": "python",
   "pygments_lexer": "ipython3",
   "version": "3.9.19"
  }
 },
 "nbformat": 4,
 "nbformat_minor": 2
}
