{
 "cells": [
  {
   "cell_type": "code",
   "execution_count": null,
   "metadata": {},
   "outputs": [
    {
     "name": "stdout",
     "output_type": "stream",
     "text": [
      "The autoreload extension is already loaded. To reload it, use:\n",
      "  %reload_ext autoreload\n"
     ]
    },
    {
     "ename": "ImportError",
     "evalue": "cannot import name 'get_initial_state' from 'src.ai.workflow' (/Users/joao/AgenticLoveStory/src/ai/workflow.py)",
     "output_type": "error",
     "traceback": [
      "\u001b[0;31m---------------------------------------------------------------------------\u001b[0m",
      "\u001b[0;31mImportError\u001b[0m                               Traceback (most recent call last)",
      "Cell \u001b[0;32mIn[3], line 4\u001b[0m\n\u001b[1;32m      1\u001b[0m get_ipython()\u001b[38;5;241m.\u001b[39mrun_line_magic(\u001b[38;5;124m'\u001b[39m\u001b[38;5;124mload_ext\u001b[39m\u001b[38;5;124m'\u001b[39m, \u001b[38;5;124m'\u001b[39m\u001b[38;5;124mautoreload\u001b[39m\u001b[38;5;124m'\u001b[39m)\n\u001b[1;32m      2\u001b[0m get_ipython()\u001b[38;5;241m.\u001b[39mrun_line_magic(\u001b[38;5;124m'\u001b[39m\u001b[38;5;124mautoreload\u001b[39m\u001b[38;5;124m'\u001b[39m, \u001b[38;5;124m'\u001b[39m\u001b[38;5;124m2\u001b[39m\u001b[38;5;124m'\u001b[39m)\n\u001b[0;32m----> 4\u001b[0m \u001b[38;5;28;01mfrom\u001b[39;00m \u001b[38;5;21;01msrc\u001b[39;00m\u001b[38;5;21;01m.\u001b[39;00m\u001b[38;5;21;01mai\u001b[39;00m\u001b[38;5;21;01m.\u001b[39;00m\u001b[38;5;21;01mworkflow\u001b[39;00m \u001b[38;5;28;01mimport\u001b[39;00m WriteflowManager, get_initial_state, display_outputs, save_outputs, load_joined_outputs\n",
      "\u001b[0;31mImportError\u001b[0m: cannot import name 'get_initial_state' from 'src.ai.workflow' (/Users/joao/AgenticLoveStory/src/ai/workflow.py)"
     ]
    }
   ],
   "source": [
    "%load_ext autoreload\n",
    "%autoreload 2\n",
    "\n",
    "from src.ai.workflow import WriteflowManager, display_outputs, save_outputs, load_joined_outputs\n",
    "from src.ai.utils import get_initial_state"
   ]
  },
  {
   "cell_type": "markdown",
   "metadata": {
    "tags": [
     "parameters"
    ]
   },
   "source": [
    "# Storyline Development\n",
    "\n",
    "Develop a Python-based solution with agentic behavior, leveraging an LLM model for reasoning, to create a storyline that follows Dan Harmon's Story Circle, ensuring all eight phases are included.\n",
    "\n",
    "### Story Circle Phases\n",
    "\n",
    "1. **You**  \n",
    "   Establish the protagonist in their ordinary world, providing a clear picture of who they are and what their life is like.\n",
    "\n",
    "2. **Need**  \n",
    "   Introduce a need or desire that disrupts the protagonist's ordinary world, compelling them to take action.\n",
    "\n",
    "3. **Go**  \n",
    "   The protagonist embarks on a journey or adventure, leaving their comfort zone to pursue their goal.\n",
    "\n",
    "4. **Search**  \n",
    "   The protagonist faces trials and challenges, learning new skills and gaining allies as they strive to achieve their goal.\n",
    "\n",
    "5. **Find**  \n",
    "   The protagonist reaches their goal or obtains what they were seeking, but it comes with unexpected consequences or revelations.\n",
    "\n",
    "6. **Take**  \n",
    "   The protagonist must confront the consequences of their actions and make a significant sacrifice or face a major challenge.\n",
    "\n",
    "7. **Return**  \n",
    "   The protagonist returns to their ordinary world, transformed by their journey and the experiences they have had.\n",
    "\n",
    "8. **Change**  \n",
    "   The protagonist's transformation is evident in their ordinary world, showing how they have grown and changed as a result of their journey."
   ]
  },
  {
   "cell_type": "code",
   "execution_count": 2,
   "metadata": {},
   "outputs": [],
   "source": [
    "story_idea_1 = \"\"\"A young scientist invents a time machine and accidentally \n",
    "            travels back to the year 1920, where he must navigate the challenges \n",
    "            of the past while trying to return to his own time, \n",
    "            ultimately learning valuable lessons about his present life.\"\"\"\n",
    "\n",
    "story_idea_2 = \"\"\"A group of friends stumbles upon a treasure map while cleaning \n",
    "            out an old attic. They embark on an adventure filled with challenges \n",
    "            and puzzles, leading them to uncover not only hidden gold but also \n",
    "            the importance of friendship and teamwork.\"\"\"\n",
    "\n",
    "story_idea_3 = \"\"\"A shy teenager moves to a new town and struggles to fit in. Through \n",
    "            unexpected friendships and participation in school events, they discover \n",
    "            their true self and gain the confidence to embrace their individuality.\"\"\"\n",
    "\n",
    "story_idea_4 = \"\"\"A young girl discovers a mystical forest behind her home, inhabited by \n",
    "            magical creatures. When the forest faces destruction from a greedy developer, \n",
    "            she rallies the creatures and her community to protect their enchanted world.\"\"\"\n",
    "\n",
    "story_idea_5 = \"\"\"A clumsy office worker finds themselves in the middle of a heist at their \n",
    "            workplace. Through a series of accidental actions, they become an unlikely hero, \n",
    "            proving that courage and quick thinking can arise from the most unexpected people.\"\"\"\n",
    "\n",
    "story_idea_6 = \"\"\"An aging rock musician, down on his luck, reconnects with his estranged daughter \n",
    "            after years of absence. Together, they embark on a journey of healing, rediscovering \n",
    "            their passion for music and the bonds of family along the way.\"\"\"\n",
    "\n",
    "story_idea_7 = \"\"\"A small startup company discovers a groundbreaking technology that has the \n",
    "            potential to revolutionize their industry. As they develop their business idea, \n",
    "            they face numerous challenges from competitors and market forces. Through innovation, \n",
    "            perseverance, and strategic partnerships, they strive to bring their vision to life \n",
    "            and make a lasting impact on the world.\"\"\""
   ]
  },
  {
   "cell_type": "code",
   "execution_count": 3,
   "metadata": {},
   "outputs": [],
   "source": [
    "initial_state = get_initial_state(story_idea_5)"
   ]
  },
  {
   "cell_type": "code",
   "execution_count": 4,
   "metadata": {},
   "outputs": [],
   "source": [
    "writeflow = WriteflowManager()\n",
    "writing = writeflow.invoke(initial_state)"
   ]
  },
  {
   "cell_type": "code",
   "execution_count": 5,
   "metadata": {},
   "outputs": [
    {
     "data": {
      "text/markdown": [
       "### Story idea"
      ],
      "text/plain": [
       "<IPython.core.display.Markdown object>"
      ]
     },
     "metadata": {},
     "output_type": "display_data"
    },
    {
     "data": {
      "text/markdown": [
       "A clumsy office worker finds themselves in the middle of a heist at their \n",
       "            workplace. Through a series of accidental actions, they become an unlikely hero, \n",
       "            proving that courage and quick thinking can arise from the most unexpected people."
      ],
      "text/plain": [
       "<IPython.core.display.Markdown object>"
      ]
     },
     "metadata": {},
     "output_type": "display_data"
    },
    {
     "data": {
      "text/markdown": [
       "### You"
      ],
      "text/plain": [
       "<IPython.core.display.Markdown object>"
      ]
     },
     "metadata": {},
     "output_type": "display_data"
    },
    {
     "data": {
      "text/markdown": [
       "In the bustling city of New York, nestled within the towering skyscrapers, lies the unassuming office of a mid-sized tech company. Here, amidst the hum of computers and the clatter of keyboards, works a man named Harold Thompson. Harold is an ordinary office worker, known for his endearing clumsiness and penchant for spilling coffee on important documents. His days are filled with routine tasks, from filing reports to attending meetings where he often blends into the background.\n",
       "\n",
       "Harold's ordinary world is one of predictability and comfort, albeit peppered with minor mishaps that have earned him a reputation as the office's lovable klutz. Despite his frequent blunders, Harold is well-liked by his colleagues for his good-natured personality and willingness to lend a hand, even if it sometimes results in more chaos than help.\n",
       "\n",
       "In his initial state, Harold is content with his unremarkable life, finding solace in the familiar rhythm of his daily routine. He harbors no grand ambitions or dreams of heroism, preferring instead the quiet satisfaction of a job well done, even if it means navigating the occasional disaster of his own making. Little does Harold know, his world is about to be turned upside down, thrusting him into a situation that will challenge his perception of himself and reveal a courage he never knew he possessed."
      ],
      "text/plain": [
       "<IPython.core.display.Markdown object>"
      ]
     },
     "metadata": {},
     "output_type": "display_data"
    },
    {
     "data": {
      "text/markdown": [
       "### Need"
      ],
      "text/plain": [
       "<IPython.core.display.Markdown object>"
      ]
     },
     "metadata": {},
     "output_type": "display_data"
    },
    {
     "data": {
      "text/markdown": [
       "One rainy Tuesday, as Harold Thompson fumbled with his umbrella and coffee cup, he stumbled into the office lobby, only to find himself face-to-face with masked intruders. In a moment of panic, he tripped, sending a cascade of papers flying, inadvertently triggering the alarm. Chaos erupted, and Harold, heart pounding, realized he was the only one standing between the thieves and their escape."
      ],
      "text/plain": [
       "<IPython.core.display.Markdown object>"
      ]
     },
     "metadata": {},
     "output_type": "display_data"
    },
    {
     "data": {
      "text/markdown": [
       "### Go"
      ],
      "text/plain": [
       "<IPython.core.display.Markdown object>"
      ]
     },
     "metadata": {},
     "output_type": "display_data"
    },
    {
     "data": {
      "text/markdown": [
       "Harold Thompson, heart racing, ducked behind a desk as the masked intruders scrambled to silence the blaring alarm. His clumsiness had unwittingly set the stage for a showdown. With adrenaline coursing through his veins, Harold spotted a fire extinguisher nearby. In a moment of unexpected bravery, he grabbed it, hurling it towards the thieves. The extinguisher clattered loudly, causing the intruders to pause, giving Harold the precious seconds he needed to alert security. As the office descended into chaos, Harold, the unassuming office worker, found himself at the center of a whirlwind, his courage ignited by the urgency of the moment."
      ],
      "text/plain": [
       "<IPython.core.display.Markdown object>"
      ]
     },
     "metadata": {},
     "output_type": "display_data"
    },
    {
     "data": {
      "text/markdown": [
       "### Search"
      ],
      "text/plain": [
       "<IPython.core.display.Markdown object>"
      ]
     },
     "metadata": {},
     "output_type": "display_data"
    },
    {
     "data": {
      "text/markdown": [
       "Amidst the chaos, Harold Thompson navigated the labyrinth of cubicles, his heart pounding like a drum. Each step was a trial, each corner a new tribulation. He stumbled, yet pressed on, driven by an unfamiliar resolve. In the chaos, Harold discovered a strength he never knew he had."
      ],
      "text/plain": [
       "<IPython.core.display.Markdown object>"
      ]
     },
     "metadata": {},
     "output_type": "display_data"
    },
    {
     "data": {
      "text/markdown": [
       "### Find"
      ],
      "text/plain": [
       "<IPython.core.display.Markdown object>"
      ]
     },
     "metadata": {},
     "output_type": "display_data"
    },
    {
     "data": {
      "text/markdown": [
       "Harold Thompson, heart pounding, ducked behind a desk as the masked intruders scrambled to silence the blaring alarm. His clumsiness had unwittingly set the stage for a showdown. With adrenaline coursing through his veins, Harold spotted a fire extinguisher nearby. In a moment of unexpected bravery, he grabbed it, hurling it towards the thieves. The extinguisher clattered loudly, causing the intruders to pause, giving Harold the precious seconds he needed to alert security. As the office descended into chaos, Harold, the unassuming office worker, found himself at the center of a whirlwind, his courage ignited by the urgency of the moment.\n",
       "\n",
       "Amidst the chaos, Harold navigated the labyrinth of cubicles, his heart a drumbeat of determination. He stumbled upon a hidden room, the thieves' target, filled with confidential files. Realizing the importance, he secured the documents, his clumsy hands now steady with purpose. As security arrived, Harold emerged, the unlikely hero, having found the courage he never knew he possessed."
      ],
      "text/plain": [
       "<IPython.core.display.Markdown object>"
      ]
     },
     "metadata": {},
     "output_type": "display_data"
    },
    {
     "data": {
      "text/markdown": [
       "### Take"
      ],
      "text/plain": [
       "<IPython.core.display.Markdown object>"
      ]
     },
     "metadata": {},
     "output_type": "display_data"
    },
    {
     "data": {
      "text/markdown": [
       "Harold Thompson clutched the confidential files, his heart still racing. The masked intruders, desperate and cornered, lunged for him. In a flurry of panic and resolve, Harold dodged, his clumsiness now an unexpected ally. Papers scattered, but he held firm, determined to protect what he had found."
      ],
      "text/plain": [
       "<IPython.core.display.Markdown object>"
      ]
     },
     "metadata": {},
     "output_type": "display_data"
    },
    {
     "data": {
      "text/markdown": [
       "### Return"
      ],
      "text/plain": [
       "<IPython.core.display.Markdown object>"
      ]
     },
     "metadata": {},
     "output_type": "display_data"
    },
    {
     "data": {
      "text/markdown": [
       "As the dust settled, Harold Thompson stood amidst the chaos, clutching the files that had become his unlikely burden. The intruders, now subdued, were led away by security. Harold, breathless and bewildered, felt the weight of his actions. With a deep breath, he stepped back into the familiar hum of the office, his heart still echoing the courage he had discovered within himself."
      ],
      "text/plain": [
       "<IPython.core.display.Markdown object>"
      ]
     },
     "metadata": {},
     "output_type": "display_data"
    },
    {
     "data": {
      "text/markdown": [
       "### Change"
      ],
      "text/plain": [
       "<IPython.core.display.Markdown object>"
      ]
     },
     "metadata": {},
     "output_type": "display_data"
    },
    {
     "data": {
      "text/markdown": [
       "Harold Thompson returned to his desk, the office now a patchwork of normalcy and upheaval. His colleagues, eyes wide with newfound respect, watched as he settled into his chair. The clumsy office worker had transformed, his quiet courage now a part of him, forever changed by the unexpected heroism of the day."
      ],
      "text/plain": [
       "<IPython.core.display.Markdown object>"
      ]
     },
     "metadata": {},
     "output_type": "display_data"
    }
   ],
   "source": [
    "display_outputs(writing)"
   ]
  },
  {
   "cell_type": "code",
   "execution_count": 13,
   "metadata": {},
   "outputs": [],
   "source": [
    "save_outputs(writing, tracking_index = str(7))"
   ]
  }
 ],
 "metadata": {
  "kernelspec": {
   "display_name": ".env",
   "language": "python",
   "name": "python3"
  },
  "language_info": {
   "codemirror_mode": {
    "name": "ipython",
    "version": 3
   },
   "file_extension": ".py",
   "mimetype": "text/x-python",
   "name": "python",
   "nbconvert_exporter": "python",
   "pygments_lexer": "ipython3",
   "version": "3.9.19"
  }
 },
 "nbformat": 4,
 "nbformat_minor": 2
}
