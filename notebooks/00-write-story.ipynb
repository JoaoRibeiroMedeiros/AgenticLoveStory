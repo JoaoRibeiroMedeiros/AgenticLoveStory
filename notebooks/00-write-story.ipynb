{
 "cells": [
  {
   "cell_type": "code",
   "execution_count": 96,
   "metadata": {},
   "outputs": [
    {
     "name": "stdout",
     "output_type": "stream",
     "text": [
      "The autoreload extension is already loaded. To reload it, use:\n",
      "  %reload_ext autoreload\n"
     ]
    }
   ],
   "source": [
    "%load_ext autoreload\n",
    "%autoreload 2\n",
    "\n",
    "from src.write import WriteState, get_initial_state\n",
    "from src.workflow import WriteflowManager, display_outputs, save_outputs, load_outputs"
   ]
  },
  {
   "cell_type": "markdown",
   "metadata": {
    "tags": [
     "parameters"
    ]
   },
   "source": [
    "# Storyline Development\n",
    "\n",
    "Develop a Python-based solution with agentic behavior, leveraging an LLM model for reasoning, to create a storyline that follows Dan Harmon's Story Circle, ensuring all eight phases are included.\n",
    "\n",
    "### Story Circle Phases\n",
    "\n",
    "1. **You**  \n",
    "   Establish the protagonist in their ordinary world, providing a clear picture of who they are and what their life is like.\n",
    "\n",
    "2. **Need**  \n",
    "   Introduce a need or desire that disrupts the protagonist's ordinary world, compelling them to take action.\n",
    "\n",
    "3. **Go**  \n",
    "   The protagonist embarks on a journey or adventure, leaving their comfort zone to pursue their goal.\n",
    "\n",
    "4. **Search**  \n",
    "   The protagonist faces trials and challenges, learning new skills and gaining allies as they strive to achieve their goal.\n",
    "\n",
    "5. **Find**  \n",
    "   The protagonist reaches their goal or obtains what they were seeking, but it comes with unexpected consequences or revelations.\n",
    "\n",
    "6. **Take**  \n",
    "   The protagonist must confront the consequences of their actions and make a significant sacrifice or face a major challenge.\n",
    "\n",
    "7. **Return**  \n",
    "   The protagonist returns to their ordinary world, transformed by their journey and the experiences they have had.\n",
    "\n",
    "8. **Change**  \n",
    "   The protagonist's transformation is evident in their ordinary world, showing how they have grown and changed as a result of their journey."
   ]
  },
  {
   "cell_type": "code",
   "execution_count": 91,
   "metadata": {},
   "outputs": [],
   "source": [
    "story_idea_1 = \"\"\"A young scientist invents a time machine and accidentally \n",
    "            travels back to the year 1920, where he must navigate the challenges \n",
    "            of the past while trying to return to his own time, \n",
    "            ultimately learning valuable lessons about his present life.\"\"\"\n",
    "\n",
    "story_idea_2 = \"\"\"A group of friends stumbles upon a treasure map while cleaning \n",
    "            out an old attic. They embark on an adventure filled with challenges \n",
    "            and puzzles, leading them to uncover not only hidden gold but also \n",
    "            the importance of friendship and teamwork.\"\"\"\n",
    "\n",
    "story_idea_3 = \"\"\"A shy teenager moves to a new town and struggles to fit in. Through \n",
    "            unexpected friendships and participation in school events, they discover \n",
    "            their true self and gain the confidence to embrace their individuality.\"\"\"\n",
    "\n",
    "story_idea_4 = \"\"\"A young girl discovers a mystical forest behind her home, inhabited by \n",
    "            magical creatures. When the forest faces destruction from a greedy developer, \n",
    "            she rallies the creatures and her community to protect their enchanted world.\"\"\"\n",
    "\n",
    "story_idea_5 = \"\"\"A clumsy office worker finds themselves in the middle of a heist at their \n",
    "            workplace. Through a series of accidental actions, they become an unlikely hero, \n",
    "            proving that courage and quick thinking can arise from the most unexpected people.\"\"\"\n",
    "\n",
    "story_idea_6 = \"\"\"An aging rock musician, down on his luck, reconnects with his estranged daughter \n",
    "            after years of absence. Together, they embark on a journey of healing, rediscovering \n",
    "            their passion for music and the bonds of family along the way.\"\"\""
   ]
  },
  {
   "cell_type": "code",
   "execution_count": 92,
   "metadata": {},
   "outputs": [],
   "source": [
    "initial_state = get_write_initial_state(story_idea_4)"
   ]
  },
  {
   "cell_type": "code",
   "execution_count": 93,
   "metadata": {},
   "outputs": [],
   "source": [
    "writeflow = WriteflowManager()\n",
    "writing = writeflow.invoke(initial_state)"
   ]
  },
  {
   "cell_type": "code",
   "execution_count": 94,
   "metadata": {},
   "outputs": [
    {
     "data": {
      "text/markdown": [
       "### Story idea"
      ],
      "text/plain": [
       "<IPython.core.display.Markdown object>"
      ]
     },
     "metadata": {},
     "output_type": "display_data"
    },
    {
     "data": {
      "text/markdown": [
       "A young girl discovers a mystical forest behind her home, inhabited by \n",
       "            magical creatures. When the forest faces destruction from a greedy developer, \n",
       "            she rallies the creatures and her community to protect their enchanted world."
      ],
      "text/plain": [
       "<IPython.core.display.Markdown object>"
      ]
     },
     "metadata": {},
     "output_type": "display_data"
    },
    {
     "data": {
      "text/markdown": [
       "### You"
      ],
      "text/plain": [
       "<IPython.core.display.Markdown object>"
      ]
     },
     "metadata": {},
     "output_type": "display_data"
    },
    {
     "data": {
      "text/markdown": [
       "In the ordinary world, the protagonist, Lily Thompson, is a curious and imaginative young girl living in a small, quiet town. Her days are filled with routine activities like attending school, doing homework, and helping her parents with chores around their modest home. Despite the simplicity of her life, Lily often feels a sense of longing for adventure and a deeper connection to the world around her. She spends her free time exploring the woods behind her house, captivated by the beauty and mystery of nature, though she has yet to discover the mystical forest that lies beyond.\n",
       "\n",
       "Lily's initial state is one of innocence and wonder. She is deeply empathetic and has a strong sense of justice, often standing up for her friends at school and caring for injured animals she finds in the woods. However, she sometimes feels powerless in the face of the larger problems she sees in the world, such as environmental destruction and the loss of natural habitats. This feeling of helplessness is compounded by her youth and the perception that adults often dismiss her concerns as childish fantasies.\n",
       "\n",
       "Lily's life takes a dramatic turn when she stumbles upon the mystical forest, a hidden realm teeming with magical creatures and vibrant, otherworldly landscapes. This discovery ignites a newfound sense of purpose within her, as she realizes that she has the power to make a difference. When she learns of the greedy developer's plans to destroy the forest, Lily's determination to protect this enchanted world becomes the driving force of her journey, transforming her from a dreamer into a courageous leader."
      ],
      "text/plain": [
       "<IPython.core.display.Markdown object>"
      ]
     },
     "metadata": {},
     "output_type": "display_data"
    },
    {
     "data": {
      "text/markdown": [
       "### Need"
      ],
      "text/plain": [
       "<IPython.core.display.Markdown object>"
      ]
     },
     "metadata": {},
     "output_type": "display_data"
    },
    {
     "data": {
      "text/markdown": [
       "Lily Thompson's heart raced with excitement as she stumbled upon the mystical forest, a hidden realm alive with magical creatures and vibrant landscapes. This enchanting discovery filled her with a sense of purpose she had never known. When she learned of the greedy developer's plans to destroy the forest, her determination to protect this enchanted world became her driving force, transforming her from a dreamer into a courageous leader. With the creatures by her side, Lily rallied her community, ready to fight for the forest's survival."
      ],
      "text/plain": [
       "<IPython.core.display.Markdown object>"
      ]
     },
     "metadata": {},
     "output_type": "display_data"
    },
    {
     "data": {
      "text/markdown": [
       "### Go"
      ],
      "text/plain": [
       "<IPython.core.display.Markdown object>"
      ]
     },
     "metadata": {},
     "output_type": "display_data"
    },
    {
     "data": {
      "text/markdown": [
       "Lily Thompson ventured deeper into the mystical forest, her heart pounding with a mix of fear and exhilaration. The air shimmered with magic, and creatures of all shapes and sizes greeted her with curious eyes. As she journeyed further, the forest revealed its secrets: ancient trees whispered stories of old, and streams sparkled with hidden enchantments. Each step took her further from the familiar, yet she felt an unbreakable bond with this world. Guided by her newfound friends, Lily learned the ways of the forest, discovering her own strength and courage. Together, they prepared to face the looming threat, united in their quest to save their enchanted home."
      ],
      "text/plain": [
       "<IPython.core.display.Markdown object>"
      ]
     },
     "metadata": {},
     "output_type": "display_data"
    },
    {
     "data": {
      "text/markdown": [
       "### Search"
      ],
      "text/plain": [
       "<IPython.core.display.Markdown object>"
      ]
     },
     "metadata": {},
     "output_type": "display_data"
    },
    {
     "data": {
      "text/markdown": [
       "Lily Thompson faced trials and tribulations as she navigated the mystical forest, her resolve tested by the challenges that lay ahead. She encountered treacherous paths and deceptive illusions, each trial teaching her resilience and deepening her bond with the magical creatures. Despite moments of doubt, Lily's unwavering spirit and the support of her enchanted friends fueled her determination. As she overcame each obstacle, she grew stronger, her leadership blossoming as she inspired both the creatures and her community to stand together against the impending destruction."
      ],
      "text/plain": [
       "<IPython.core.display.Markdown object>"
      ]
     },
     "metadata": {},
     "output_type": "display_data"
    },
    {
     "data": {
      "text/markdown": [
       "### Find"
      ],
      "text/plain": [
       "<IPython.core.display.Markdown object>"
      ]
     },
     "metadata": {},
     "output_type": "display_data"
    },
    {
     "data": {
      "text/markdown": [
       "Lily Thompson, with unwavering resolve, faced numerous challenges in her quest to save the mystical forest. She navigated treacherous paths, outsmarted traps set by the developer, and united the magical creatures and her community. Through trials, she discovered her inner strength and the power of unity, forging an unbreakable bond with the enchanted world she vowed to protect."
      ],
      "text/plain": [
       "<IPython.core.display.Markdown object>"
      ]
     },
     "metadata": {},
     "output_type": "display_data"
    },
    {
     "data": {
      "text/markdown": [
       "### Take"
      ],
      "text/plain": [
       "<IPython.core.display.Markdown object>"
      ]
     },
     "metadata": {},
     "output_type": "display_data"
    },
    {
     "data": {
      "text/markdown": [
       "Lily Thompson stood at the heart of the mystical forest, the object of her quest finally within reach—a shimmering amulet, the key to safeguarding the enchanted realm. Yet, as her fingers brushed its surface, a powerful force resisted her touch, testing her resolve. The amulet's magic pulsed with the forest's life, demanding a true guardian. Lily's heart swelled with determination, her bond with the creatures and her community strengthening her resolve. With a deep breath, she embraced the challenge, her spirit unwavering, ready to prove herself worthy of the forest's trust and protection."
      ],
      "text/plain": [
       "<IPython.core.display.Markdown object>"
      ]
     },
     "metadata": {},
     "output_type": "display_data"
    },
    {
     "data": {
      "text/markdown": [
       "### Return"
      ],
      "text/plain": [
       "<IPython.core.display.Markdown object>"
      ]
     },
     "metadata": {},
     "output_type": "display_data"
    },
    {
     "data": {
      "text/markdown": [
       "Lily Thompson, now a true guardian of the mystical forest, clutched the amulet close as she journeyed back to her ordinary world. The forest's magic lingered in her heart, a reminder of her courage and the unity she had forged. Her town welcomed her as a hero, and Lily, once a dreamer, returned as a leader, her spirit forever intertwined with the enchanted realm she had vowed to protect."
      ],
      "text/plain": [
       "<IPython.core.display.Markdown object>"
      ]
     },
     "metadata": {},
     "output_type": "display_data"
    },
    {
     "data": {
      "text/markdown": [
       "### Change"
      ],
      "text/plain": [
       "<IPython.core.display.Markdown object>"
      ]
     },
     "metadata": {},
     "output_type": "display_data"
    },
    {
     "data": {
      "text/markdown": [
       "Lily Thompson, transformed by her journey, stood at the edge of the mystical forest, her heart brimming with newfound wisdom and strength. The once-ordinary girl had become a beacon of hope, her courage inspiring both magical creatures and her community. As she gazed back at the enchanted realm, she knew she had changed forever, her spirit now a bridge between two worlds. With the amulet's magic guiding her, Lily embraced her role as a guardian, ready to protect the forest and nurture the bond she had forged with its magical inhabitants."
      ],
      "text/plain": [
       "<IPython.core.display.Markdown object>"
      ]
     },
     "metadata": {},
     "output_type": "display_data"
    }
   ],
   "source": [
    "display_outputs(writing)"
   ]
  },
  {
   "cell_type": "code",
   "execution_count": 87,
   "metadata": {},
   "outputs": [],
   "source": [
    "save_outputs(writing, tracking_index = str(0))"
   ]
  },
  {
   "cell_type": "code",
   "execution_count": 88,
   "metadata": {},
   "outputs": [],
   "source": [
    "full_text = load_outputs(str(0))"
   ]
  },
  {
   "cell_type": "code",
   "execution_count": 89,
   "metadata": {},
   "outputs": [
    {
     "data": {
      "text/plain": [
       "\"A young girl discovers a mystical forest behind her home, inhabited by \\n            magical creatures. When the forest faces destruction from a greedy developer, \\n            she rallies the creatures and her community to protect their enchanted world. \\n\\n In the ordinary world, the protagonist, Lily, is a curious and imaginative young girl living in a small, quiet town. Her days are filled with routine activities: attending school, helping her parents with chores, and spending time with her friends. Despite the simplicity of her life, Lily often feels a sense of longing for something more, something magical that she can't quite put her finger on. She spends her free time exploring the woods behind her home, captivated by the beauty of nature and the stories her grandmother used to tell her about mystical lands and magical creatures.\\n\\nLily's initial state is one of innocence and wonder. She is deeply connected to the natural world, finding solace and inspiration in the rustling leaves and the songs of birds. However, she is also somewhat naive, unaware of the complexities and challenges that exist beyond her small town. Her heart is open and compassionate, always ready to help others, but she lacks the confidence to believe that she can make a significant impact on the world around her.\\n\\nWhen Lily stumbles upon the mystical forest, her world begins to change. The discovery ignites a spark within her, awakening a sense of purpose and determination she never knew she had. As she learns about the impending threat from the greedy developer, Lily realizes that she must step out of her comfort zone and fight to protect the enchanted world she has come to love. This journey will test her courage, resilience, and ability to unite both magical creatures and her community in a common cause. \\n\\n Lily's heart raced as she ventured deeper into the mystical forest, her eyes wide with wonder at the shimmering creatures and vibrant flora. The forest whispered secrets of ancient magic, and Lily felt an unexplainable bond with this enchanted realm. But when she overheard the developer's plans to raze the forest for profit, a fierce determination surged within her. The thought of losing this magical sanctuary filled her with urgency. She knew she had to act, to rally the creatures and her community, to protect the forest that had awakened her spirit and given her a sense of belonging. \\n\\n Lily's journey into the mystical forest was like stepping into a dream. The air shimmered with enchantment, and creatures of legend greeted her with curious eyes. As she wandered deeper, the forest revealed its secrets, each step unveiling wonders beyond her wildest imagination. The trees whispered tales of ancient times, and the ground pulsed with a magic that resonated with her very soul. Here, Lily felt truly alive, her heart beating in harmony with the forest's rhythm. But the shadow of the developer's greed loomed large, threatening to shatter this newfound world. With courage ignited by the forest's magic, Lily vowed to protect this sanctuary, uniting the creatures and her community in a battle to save the enchanted realm she now called home. \\n\\n Lily faced trials as she navigated the mystical forest, each challenge testing her resolve. She encountered riddles from wise old trees, crossed treacherous streams with the help of playful sprites, and learned to communicate with creatures who shared their fears of the looming threat. Her heart, once filled with innocence, now brimmed with determination and courage. As she rallied the magical beings and her community, Lily discovered her own strength, realizing that the power to protect the forest lay within her all along. Together, they prepared to stand against the developer, united in their love for the enchanted world. \\n\\n Lily's resolve was tested as she navigated the trials of uniting the magical creatures and her community. She faced skepticism and fear, but her unwavering spirit inspired those around her. With each challenge, Lily grew stronger, her bond with the forest deepening. Finally, she discovered the ancient heart of the forest, a glowing crystal that held the key to its magic. Empowered by this discovery, Lily knew she had found what she needed to protect the enchanted realm she loved. \\n\\n Lily stood before the ancient heart of the forest, the glowing crystal pulsating with life. Yet, as she reached out to claim it, a barrier of magic resisted her touch, testing her resolve. Doubt crept in, but the creatures rallied around her, their faith in her unwavering. With their support, Lily summoned the courage to embrace the crystal's power, feeling its warmth merge with her spirit. The forest's magic flowed through her, and she realized that true possession lay not in holding the crystal, but in the unity and love she had fostered. \\n\\n With the forest's magic coursing through her, Lily journeyed back to her ordinary world, her heart forever changed. The once quiet town now buzzed with stories of her bravery, and the community, inspired by her courage, vowed to protect their natural treasures. Lily, no longer the naive girl she once was, carried the forest's spirit within her, knowing that magic existed not just in enchanted realms, but in the unity and love of those who dared to dream. \\n\\n Lily returned to her ordinary world, transformed by her journey. The once-quiet town now thrived with a newfound appreciation for nature, inspired by her bravery. She was no longer the naive girl she once was; she carried the forest's spirit within her, knowing magic lived in unity and love.\""
      ]
     },
     "execution_count": 89,
     "metadata": {},
     "output_type": "execute_result"
    }
   ],
   "source": [
    "full_text"
   ]
  },
  {
   "cell_type": "code",
   "execution_count": null,
   "metadata": {},
   "outputs": [],
   "source": []
  }
 ],
 "metadata": {
  "kernelspec": {
   "display_name": ".env",
   "language": "python",
   "name": "python3"
  },
  "language_info": {
   "codemirror_mode": {
    "name": "ipython",
    "version": 3
   },
   "file_extension": ".py",
   "mimetype": "text/x-python",
   "name": "python",
   "nbconvert_exporter": "python",
   "pygments_lexer": "ipython3",
   "version": "3.9.19"
  }
 },
 "nbformat": 4,
 "nbformat_minor": 2
}
