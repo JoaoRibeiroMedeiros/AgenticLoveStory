{
 "cells": [
  {
   "cell_type": "markdown",
   "metadata": {},
   "source": [
    "# Storyline Development\n",
    "\n",
    "Develop a Python-based solution with agentic behavior, leveraging an LLM model for reasoning, to create a storyline that follows Dan Harmon's Story Circle, ensuring all eight phases are included.\n",
    "\n",
    "### Story Circle Phases\n",
    "\n",
    "1. **You**  \n",
    "   Establish the protagonist in their ordinary world, providing a clear picture of who they are and what their life is like.\n",
    "\n",
    "2. **Need**  \n",
    "   Introduce a need or desire that disrupts the protagonist's ordinary world, compelling them to take action.\n",
    "\n",
    "3. **Go**  \n",
    "   The protagonist embarks on a journey or adventure, leaving their comfort zone to pursue their goal.\n",
    "\n",
    "4. **Search**  \n",
    "   The protagonist faces trials and challenges, learning new skills and gaining allies as they strive to achieve their goal.\n",
    "\n",
    "5. **Find**  \n",
    "   The protagonist reaches their goal or obtains what they were seeking, but it comes with unexpected consequences or revelations.\n",
    "\n",
    "6. **Take**  \n",
    "   The protagonist must confront the consequences of their actions and make a significant sacrifice or face a major challenge.\n",
    "\n",
    "7. **Return**  \n",
    "   The protagonist returns to their ordinary world, transformed by their journey and the experiences they have had.\n",
    "\n",
    "8. **Change**  \n",
    "   The protagonist's transformation is evident in their ordinary world, showing how they have grown and changed as a result of their journey."
   ]
  },
  {
   "cell_type": "code",
   "execution_count": null,
   "metadata": {
    "vscode": {
     "languageId": "plaintext"
    }
   },
   "outputs": [],
   "source": [
    "story_idea_1 = \"\"\"A young scientist invents a time machine and accidentally \n",
    "            travels back to the year 1920, where he must navigate the challenges \n",
    "            of the past while trying to return to his own time, \n",
    "            ultimately learning valuable lessons about his present life.\"\"\"\n",
    "\n",
    "story_idea_2 = \"\"\"A group of friends stumbles upon a treasure map while cleaning \n",
    "            out an old attic. They embark on an adventure filled with challenges \n",
    "            and puzzles, leading them to uncover not only hidden gold but also \n",
    "            the importance of friendship and teamwork.\"\"\"\n",
    "\n",
    "story_idea_3 = \"\"\"A shy teenager moves to a new town and struggles to fit in. Through \n",
    "            unexpected friendships and participation in school events, they discover \n",
    "            their true self and gain the confidence to embrace their individuality.\"\"\"\n",
    "\n",
    "story_idea_4 = \"\"\"A young girl discovers a mystical forest behind her home, inhabited by \n",
    "            magical creatures. When the forest faces destruction from a greedy developer, \n",
    "            she rallies the creatures and her community to protect their enchanted world.\"\"\"\n",
    "\n",
    "story_idea_5 = \"\"\"A clumsy office worker finds themselves in the middle of a heist at their \n",
    "            workplace. Through a series of accidental actions, they become an unlikely hero, \n",
    "            proving that courage and quick thinking can arise from the most unexpected people.\"\"\"\n",
    "\n",
    "story_idea_6 = \"\"\"An aging rock musician, down on his luck, reconnects with his estranged daughter \n",
    "            after years of absence. Together, they embark on a journey of healing, rediscovering \n",
    "            their passion for music and the bonds of family along the way.\"\"\""
   ]
  },
  {
   "cell_type": "code",
   "execution_count": null,
   "metadata": {
    "vscode": {
     "languageId": "plaintext"
    }
   },
   "outputs": [],
   "source": []
  }
 ],
 "metadata": {
  "language_info": {
   "name": "python"
  }
 },
 "nbformat": 4,
 "nbformat_minor": 2
}
