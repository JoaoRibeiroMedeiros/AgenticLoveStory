{
 "cells": [
  {
   "cell_type": "code",
   "execution_count": 56,
   "metadata": {},
   "outputs": [
    {
     "name": "stdout",
     "output_type": "stream",
     "text": [
      "The autoreload extension is already loaded. To reload it, use:\n",
      "  %reload_ext autoreload\n"
     ]
    }
   ],
   "source": [
    "%load_ext autoreload\n",
    "%autoreload 2\n",
    "\n",
    "from src.write import WriteState, get_write_initial_state\n",
    "from src.workflow import WriteflowManager, display_outputs"
   ]
  },
  {
   "cell_type": "markdown",
   "metadata": {
    "tags": [
     "parameters"
    ]
   },
   "source": [
    "# Storyline Development\n",
    "\n",
    "Develop a Python-based solution with agentic behavior, leveraging an LLM model for reasoning, to create a storyline that follows Dan Harmon's Story Circle, ensuring all eight phases are included.\n",
    "\n",
    "### Story Circle Phases\n",
    "\n",
    "1. **You**  \n",
    "   Establish the protagonist in their ordinary world, providing a clear picture of who they are and what their life is like.\n",
    "\n",
    "2. **Need**  \n",
    "   Introduce a need or desire that disrupts the protagonist's ordinary world, compelling them to take action.\n",
    "\n",
    "3. **Go**  \n",
    "   The protagonist embarks on a journey or adventure, leaving their comfort zone to pursue their goal.\n",
    "\n",
    "4. **Search**  \n",
    "   The protagonist faces trials and challenges, learning new skills and gaining allies as they strive to achieve their goal.\n",
    "\n",
    "5. **Find**  \n",
    "   The protagonist reaches their goal or obtains what they were seeking, but it comes with unexpected consequences or revelations.\n",
    "\n",
    "6. **Take**  \n",
    "   The protagonist must confront the consequences of their actions and make a significant sacrifice or face a major challenge.\n",
    "\n",
    "7. **Return**  \n",
    "   The protagonist returns to their ordinary world, transformed by their journey and the experiences they have had.\n",
    "\n",
    "8. **Change**  \n",
    "   The protagonist's transformation is evident in their ordinary world, showing how they have grown and changed as a result of their journey."
   ]
  },
  {
   "cell_type": "code",
   "execution_count": 57,
   "metadata": {},
   "outputs": [],
   "source": [
    "story_idea_1 = \"\"\"A young scientist invents a time machine and accidentally \n",
    "            travels back to the year 1920, where he must navigate the challenges \n",
    "            of the past while trying to return to his own time, \n",
    "            ultimately learning valuable lessons about his present life.\"\"\"\n",
    "\n",
    "story_idea_2 = \"\"\"A group of friends stumbles upon a treasure map while cleaning \n",
    "            out an old attic. They embark on an adventure filled with challenges \n",
    "            and puzzles, leading them to uncover not only hidden gold but also \n",
    "            the importance of friendship and teamwork.\"\"\"\n",
    "\n",
    "story_idea_3 = \"\"\"A shy teenager moves to a new town and struggles to fit in. Through \n",
    "            unexpected friendships and participation in school events, they discover \n",
    "            their true self and gain the confidence to embrace their individuality.\"\"\"\n",
    "\n",
    "story_idea_4 = \"\"\"A young girl discovers a mystical forest behind her home, inhabited by \n",
    "            magical creatures. When the forest faces destruction from a greedy developer, \n",
    "            she rallies the creatures and her community to protect their enchanted world.\"\"\"\n",
    "\n",
    "story_idea_5 = \"\"\"A clumsy office worker finds themselves in the middle of a heist at their \n",
    "            workplace. Through a series of accidental actions, they become an unlikely hero, \n",
    "            proving that courage and quick thinking can arise from the most unexpected people.\"\"\"\n",
    "\n",
    "story_idea_6 = \"\"\"An aging rock musician, down on his luck, reconnects with his estranged daughter \n",
    "            after years of absence. Together, they embark on a journey of healing, rediscovering \n",
    "            their passion for music and the bonds of family along the way.\"\"\""
   ]
  },
  {
   "cell_type": "code",
   "execution_count": 58,
   "metadata": {},
   "outputs": [],
   "source": [
    "initial_state = get_write_initial_state(story_idea_1)"
   ]
  },
  {
   "cell_type": "code",
   "execution_count": 59,
   "metadata": {},
   "outputs": [],
   "source": [
    "writeflow = WriteflowManager()\n",
    "writing = writeflow.invoke(initial_state)"
   ]
  },
  {
   "cell_type": "code",
   "execution_count": 60,
   "metadata": {},
   "outputs": [
    {
     "data": {
      "text/markdown": [
       "### Story idea"
      ],
      "text/plain": [
       "<IPython.core.display.Markdown object>"
      ]
     },
     "metadata": {},
     "output_type": "display_data"
    },
    {
     "data": {
      "text/markdown": [
       "A young scientist invents a time machine and accidentally \n",
       "            travels back to the year 1920, where he must navigate the challenges \n",
       "            of the past while trying to return to his own time, \n",
       "            ultimately learning valuable lessons about his present life."
      ],
      "text/plain": [
       "<IPython.core.display.Markdown object>"
      ]
     },
     "metadata": {},
     "output_type": "display_data"
    },
    {
     "data": {
      "text/markdown": [
       "### You"
      ],
      "text/plain": [
       "<IPython.core.display.Markdown object>"
      ]
     },
     "metadata": {},
     "output_type": "display_data"
    },
    {
     "data": {
      "text/markdown": [
       "The protagonist's name is Ethan Carter. In his ordinary world, Ethan is a brilliant but somewhat reclusive young scientist working in a modern research facility. He is deeply passionate about his work, often losing himself in his experiments and theories. Despite his intelligence and dedication, Ethan struggles with personal relationships and tends to isolate himself from others, preferring the company of his books and scientific equipment.\n",
       "\n",
       "Ethan's initial state is one of dissatisfaction and restlessness. He feels disconnected from the world around him, believing that his work is the only thing that truly matters. His ambition drives him to push the boundaries of science, but it also blinds him to the importance of human connection and the simple joys of life. Ethan's life is a routine of long hours in the lab, minimal social interaction, and a constant pursuit of groundbreaking discoveries, leaving him feeling unfulfilled and yearning for something more, though he can't quite articulate what that is."
      ],
      "text/plain": [
       "<IPython.core.display.Markdown object>"
      ]
     },
     "metadata": {},
     "output_type": "display_data"
    },
    {
     "data": {
      "text/markdown": [
       "### Need"
      ],
      "text/plain": [
       "<IPython.core.display.Markdown object>"
      ]
     },
     "metadata": {},
     "output_type": "display_data"
    },
    {
     "data": {
      "text/markdown": [
       "Ethan Carter, driven by an insatiable curiosity and a desire to make a monumental impact on the world, becomes obsessed with the idea of transcending time. His dissatisfaction with the present and a longing to escape his mundane routine push him to build a time machine, hoping to find answers and fulfillment beyond the confines of his lab."
      ],
      "text/plain": [
       "<IPython.core.display.Markdown object>"
      ]
     },
     "metadata": {},
     "output_type": "display_data"
    },
    {
     "data": {
      "text/markdown": [
       "### Go"
      ],
      "text/plain": [
       "<IPython.core.display.Markdown object>"
      ]
     },
     "metadata": {},
     "output_type": "display_data"
    },
    {
     "data": {
      "text/markdown": [
       "Ethan Carter, having constructed his time machine, finds himself unexpectedly transported to the year 1920. The world is a tapestry of unfamiliar sights and sounds, a stark contrast to the sterile environment of his lab. As he navigates the bustling streets, Ethan is both fascinated and overwhelmed by the simplicity and vibrancy of life in this era. He encounters people who live with a sense of community and connection that he has never experienced. Struggling to adapt, Ethan must learn to communicate and survive in a time without the technology he relies on. Each interaction teaches him the value of human connection, slowly unraveling the isolation he had wrapped himself in. As he searches for a way back to his own time, Ethan begins to understand that the answers he seeks might not lie in the future, but in embracing the present and the people around him."
      ],
      "text/plain": [
       "<IPython.core.display.Markdown object>"
      ]
     },
     "metadata": {},
     "output_type": "display_data"
    },
    {
     "data": {
      "text/markdown": [
       "### Search"
      ],
      "text/plain": [
       "<IPython.core.display.Markdown object>"
      ]
     },
     "metadata": {},
     "output_type": "display_data"
    },
    {
     "data": {
      "text/markdown": [
       "Ethan Carter, thrust into the heart of 1920, faces a series of trials that test his ingenuity and resilience. Struggling to repair his time machine with limited resources, he navigates a world of speakeasies and jazz, forming unexpected friendships. Through these challenges, Ethan discovers the profound importance of connection and community, realizing that true fulfillment lies not in escaping time, but in cherishing the moments and people that define it."
      ],
      "text/plain": [
       "<IPython.core.display.Markdown object>"
      ]
     },
     "metadata": {},
     "output_type": "display_data"
    },
    {
     "data": {
      "text/markdown": [
       "### Find"
      ],
      "text/plain": [
       "<IPython.core.display.Markdown object>"
      ]
     },
     "metadata": {},
     "output_type": "display_data"
    },
    {
     "data": {
      "text/markdown": [
       "Ethan Carter, after enduring numerous trials in 1920, finally discovers the key to returning home: a deeper understanding of human connection. In a dusty library, he finds an old journal filled with insights on time and life, penned by a kindred spirit from the past. This revelation not only guides him back to his own time but also transforms his perspective, teaching him that the true essence of life lies in the relationships we build and cherish. With newfound wisdom, Ethan returns, ready to embrace the present with open arms and a heart full of gratitude."
      ],
      "text/plain": [
       "<IPython.core.display.Markdown object>"
      ]
     },
     "metadata": {},
     "output_type": "display_data"
    },
    {
     "data": {
      "text/markdown": [
       "### Take"
      ],
      "text/plain": [
       "<IPython.core.display.Markdown object>"
      ]
     },
     "metadata": {},
     "output_type": "display_data"
    },
    {
     "data": {
      "text/markdown": [
       "Ethan Carter, clutching the old journal that held the secrets to his return, faced an unexpected struggle. The journal, a fragile relic of the past, was coveted by a local historian who believed it belonged in a museum. Torn between his desire to return home and the ethical dilemma of taking a piece of history, Ethan wrestled with his conscience. As he navigated this moral quandary, he realized that the true possession he sought was not the journal itself, but the wisdom it imparted. In a moment of clarity, Ethan decided to share its insights with the historian, forging a bond that transcended time and solidifying his newfound appreciation for human connection."
      ],
      "text/plain": [
       "<IPython.core.display.Markdown object>"
      ]
     },
     "metadata": {},
     "output_type": "display_data"
    },
    {
     "data": {
      "text/markdown": [
       "### Return"
      ],
      "text/plain": [
       "<IPython.core.display.Markdown object>"
      ]
     },
     "metadata": {},
     "output_type": "display_data"
    },
    {
     "data": {
      "text/markdown": [
       "Ethan Carter, having resolved the ethical dilemma and shared the journal's wisdom, finally activated his time machine. As the world of 1920 faded, he returned to his modern lab, carrying with him the lessons of the past. No longer isolated, Ethan embraced his ordinary world with a renewed sense of purpose, cherishing the connections he once overlooked."
      ],
      "text/plain": [
       "<IPython.core.display.Markdown object>"
      ]
     },
     "metadata": {},
     "output_type": "display_data"
    },
    {
     "data": {
      "text/markdown": [
       "### Change"
      ],
      "text/plain": [
       "<IPython.core.display.Markdown object>"
      ]
     },
     "metadata": {},
     "output_type": "display_data"
    },
    {
     "data": {
      "text/markdown": [
       "Ethan Carter, transformed by his journey, returned to his modern lab with a heart full of gratitude and a mind enriched by the past. No longer the reclusive scientist, he now valued the warmth of human connection and the simple joys of life. His once sterile world now brimmed with vibrant relationships, as Ethan embraced each moment with newfound wisdom and appreciation, forever changed by his time in 1920."
      ],
      "text/plain": [
       "<IPython.core.display.Markdown object>"
      ]
     },
     "metadata": {},
     "output_type": "display_data"
    }
   ],
   "source": [
    "display_outputs(writing)"
   ]
  }
 ],
 "metadata": {
  "kernelspec": {
   "display_name": ".env",
   "language": "python",
   "name": "python3"
  },
  "language_info": {
   "codemirror_mode": {
    "name": "ipython",
    "version": 3
   },
   "file_extension": ".py",
   "mimetype": "text/x-python",
   "name": "python",
   "nbconvert_exporter": "python",
   "pygments_lexer": "ipython3",
   "version": "3.9.19"
  }
 },
 "nbformat": 4,
 "nbformat_minor": 2
}
