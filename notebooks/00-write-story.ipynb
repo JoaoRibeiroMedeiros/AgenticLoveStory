{
 "cells": [
  {
   "cell_type": "code",
   "execution_count": 7,
   "metadata": {},
   "outputs": [
    {
     "name": "stdout",
     "output_type": "stream",
     "text": [
      "The autoreload extension is already loaded. To reload it, use:\n",
      "  %reload_ext autoreload\n"
     ]
    }
   ],
   "source": [
    "%load_ext autoreload\n",
    "%autoreload 2\n",
    "\n",
    "from src.write import get_initial_state\n",
    "from src.workflow import WriteflowManager, display_outputs, save_outputs, load_joined_outputs"
   ]
  },
  {
   "cell_type": "markdown",
   "metadata": {
    "tags": [
     "parameters"
    ]
   },
   "source": [
    "# Storyline Development\n",
    "\n",
    "Develop a Python-based solution with agentic behavior, leveraging an LLM model for reasoning, to create a storyline that follows Dan Harmon's Story Circle, ensuring all eight phases are included.\n",
    "\n",
    "### Story Circle Phases\n",
    "\n",
    "1. **You**  \n",
    "   Establish the protagonist in their ordinary world, providing a clear picture of who they are and what their life is like.\n",
    "\n",
    "2. **Need**  \n",
    "   Introduce a need or desire that disrupts the protagonist's ordinary world, compelling them to take action.\n",
    "\n",
    "3. **Go**  \n",
    "   The protagonist embarks on a journey or adventure, leaving their comfort zone to pursue their goal.\n",
    "\n",
    "4. **Search**  \n",
    "   The protagonist faces trials and challenges, learning new skills and gaining allies as they strive to achieve their goal.\n",
    "\n",
    "5. **Find**  \n",
    "   The protagonist reaches their goal or obtains what they were seeking, but it comes with unexpected consequences or revelations.\n",
    "\n",
    "6. **Take**  \n",
    "   The protagonist must confront the consequences of their actions and make a significant sacrifice or face a major challenge.\n",
    "\n",
    "7. **Return**  \n",
    "   The protagonist returns to their ordinary world, transformed by their journey and the experiences they have had.\n",
    "\n",
    "8. **Change**  \n",
    "   The protagonist's transformation is evident in their ordinary world, showing how they have grown and changed as a result of their journey."
   ]
  },
  {
   "cell_type": "code",
   "execution_count": 9,
   "metadata": {},
   "outputs": [],
   "source": [
    "story_idea_1 = \"\"\"A young scientist invents a time machine and accidentally \n",
    "            travels back to the year 1920, where he must navigate the challenges \n",
    "            of the past while trying to return to his own time, \n",
    "            ultimately learning valuable lessons about his present life.\"\"\"\n",
    "\n",
    "story_idea_2 = \"\"\"A group of friends stumbles upon a treasure map while cleaning \n",
    "            out an old attic. They embark on an adventure filled with challenges \n",
    "            and puzzles, leading them to uncover not only hidden gold but also \n",
    "            the importance of friendship and teamwork.\"\"\"\n",
    "\n",
    "story_idea_3 = \"\"\"A shy teenager moves to a new town and struggles to fit in. Through \n",
    "            unexpected friendships and participation in school events, they discover \n",
    "            their true self and gain the confidence to embrace their individuality.\"\"\"\n",
    "\n",
    "story_idea_4 = \"\"\"A young girl discovers a mystical forest behind her home, inhabited by \n",
    "            magical creatures. When the forest faces destruction from a greedy developer, \n",
    "            she rallies the creatures and her community to protect their enchanted world.\"\"\"\n",
    "\n",
    "story_idea_5 = \"\"\"A clumsy office worker finds themselves in the middle of a heist at their \n",
    "            workplace. Through a series of accidental actions, they become an unlikely hero, \n",
    "            proving that courage and quick thinking can arise from the most unexpected people.\"\"\"\n",
    "\n",
    "story_idea_6 = \"\"\"An aging rock musician, down on his luck, reconnects with his estranged daughter \n",
    "            after years of absence. Together, they embark on a journey of healing, rediscovering \n",
    "            their passion for music and the bonds of family along the way.\"\"\"\n",
    "\n",
    "story_idea_7 = \"\"\"A small startup company discovers a groundbreaking technology that has the \n",
    "            potential to revolutionize their industry. As they develop their business idea, \n",
    "            they face numerous challenges from competitors and market forces. Through innovation, \n",
    "            perseverance, and strategic partnerships, they strive to bring their vision to life \n",
    "            and make a lasting impact on the world.\"\"\""
   ]
  },
  {
   "cell_type": "code",
   "execution_count": 10,
   "metadata": {},
   "outputs": [],
   "source": [
    "initial_state = get_initial_state(story_idea_7)"
   ]
  },
  {
   "cell_type": "code",
   "execution_count": 11,
   "metadata": {},
   "outputs": [],
   "source": [
    "writeflow = WriteflowManager()\n",
    "writing = writeflow.invoke(initial_state)"
   ]
  },
  {
   "cell_type": "code",
   "execution_count": 12,
   "metadata": {},
   "outputs": [
    {
     "data": {
      "text/markdown": [
       "### Story idea"
      ],
      "text/plain": [
       "<IPython.core.display.Markdown object>"
      ]
     },
     "metadata": {},
     "output_type": "display_data"
    },
    {
     "data": {
      "text/markdown": [
       "A small startup company discovers a groundbreaking technology that has the \n",
       "            potential to revolutionize their industry. As they develop their business idea, \n",
       "            they face numerous challenges from competitors and market forces. Through innovation, \n",
       "            perseverance, and strategic partnerships, they strive to bring their vision to life \n",
       "            and make a lasting impact on the world."
      ],
      "text/plain": [
       "<IPython.core.display.Markdown object>"
      ]
     },
     "metadata": {},
     "output_type": "display_data"
    },
    {
     "data": {
      "text/markdown": [
       "### You"
      ],
      "text/plain": [
       "<IPython.core.display.Markdown object>"
      ]
     },
     "metadata": {},
     "output_type": "display_data"
    },
    {
     "data": {
      "text/markdown": [
       "The protagonist of this story is named Alex Thompson. In Alex's ordinary world, he is a diligent and ambitious entrepreneur working in a small, cramped office space with a handful of dedicated team members. The startup, though filled with potential, is constantly under pressure due to limited resources and the looming threat of larger, more established competitors. \n",
       "\n",
       "Alex's initial state is one of cautious optimism. He is passionate about the groundbreaking technology his company has developed, believing wholeheartedly in its potential to revolutionize the industry. However, he is also acutely aware of the challenges that lie ahead. Financial constraints, the need for strategic partnerships, and the ever-present risk of being outpaced by competitors weigh heavily on his mind. Despite these challenges, Alex remains determined to see his vision through, driven by a desire to make a meaningful impact on the world and to prove that innovation and perseverance can overcome even the most daunting obstacles."
      ],
      "text/plain": [
       "<IPython.core.display.Markdown object>"
      ]
     },
     "metadata": {},
     "output_type": "display_data"
    },
    {
     "data": {
      "text/markdown": [
       "### Need"
      ],
      "text/plain": [
       "<IPython.core.display.Markdown object>"
      ]
     },
     "metadata": {},
     "output_type": "display_data"
    },
    {
     "data": {
      "text/markdown": [
       "One evening, as the sun dipped below the horizon, casting a warm glow over the cluttered office, Alex Thompson sat hunched over his desk, eyes fixed on the prototype that could change everything. The room buzzed with the quiet hum of computers and the soft murmur of his team, each member fueled by the same dream. Alex's heart raced with a mix of excitement and trepidation. The technology they had nurtured from a mere idea now held the promise of transforming their industry. Yet, the path ahead was fraught with uncertainty. Competitors lurked, ready to pounce on any misstep, and the market's demands were relentless. But Alex's desire to break free from the shadows of giants and carve a new path was unyielding. It was this burning need to see his vision realized, to leave a mark on the world, that propelled him beyond the confines of his comfort zone, into the unknown."
      ],
      "text/plain": [
       "<IPython.core.display.Markdown object>"
      ]
     },
     "metadata": {},
     "output_type": "display_data"
    },
    {
     "data": {
      "text/markdown": [
       "### Go"
      ],
      "text/plain": [
       "<IPython.core.display.Markdown object>"
      ]
     },
     "metadata": {},
     "output_type": "display_data"
    },
    {
     "data": {
      "text/markdown": [
       "With the dawn of a new day, Alex Thompson found himself stepping into a world that was both thrilling and daunting. The small office, once a cocoon of familiar challenges, now seemed a distant memory as he ventured into the bustling heart of the industry. The air was thick with the scent of opportunity and competition, each step echoing with the promise of change. As Alex navigated this unfamiliar terrain, he encountered rivals who eyed his innovation with envy and skepticism. Yet, amidst the chaos, he discovered allies—visionaries who shared his dream and offered the strategic partnerships he so desperately needed. Together, they forged ahead, driven by a shared belief in the power of their groundbreaking technology to reshape the world."
      ],
      "text/plain": [
       "<IPython.core.display.Markdown object>"
      ]
     },
     "metadata": {},
     "output_type": "display_data"
    },
    {
     "data": {
      "text/markdown": [
       "### Search"
      ],
      "text/plain": [
       "<IPython.core.display.Markdown object>"
      ]
     },
     "metadata": {},
     "output_type": "display_data"
    },
    {
     "data": {
      "text/markdown": [
       "Amidst the whirlwind of ambition and adversity, Alex Thompson faced trials that tested his resolve. Competitors launched relentless attacks, and market forces threatened to crush his dreams. Yet, through sleepless nights and unwavering determination, Alex and his team innovated tirelessly, forging alliances that strengthened their resolve to change the world."
      ],
      "text/plain": [
       "<IPython.core.display.Markdown object>"
      ]
     },
     "metadata": {},
     "output_type": "display_data"
    },
    {
     "data": {
      "text/markdown": [
       "### Find"
      ],
      "text/plain": [
       "<IPython.core.display.Markdown object>"
      ]
     },
     "metadata": {},
     "output_type": "display_data"
    },
    {
     "data": {
      "text/markdown": [
       "In the dim glow of the office, Alex Thompson's heart swelled with triumph. After countless sleepless nights and relentless trials, he finally held the key to their success. The prototype, once a fragile dream, now pulsed with potential. His team gathered around, their faces alight with hope and belief. Together, they had navigated the storm of challenges, and now, standing on the brink of revolution, Alex knew they had found what they were searching for—a chance to change the world."
      ],
      "text/plain": [
       "<IPython.core.display.Markdown object>"
      ]
     },
     "metadata": {},
     "output_type": "display_data"
    },
    {
     "data": {
      "text/markdown": [
       "### Take"
      ],
      "text/plain": [
       "<IPython.core.display.Markdown object>"
      ]
     },
     "metadata": {},
     "output_type": "display_data"
    },
    {
     "data": {
      "text/markdown": [
       "As the sun dipped below the horizon, casting long shadows across the cluttered office, Alex Thompson stood at the precipice of his dreams. The prototype, a beacon of their hard-fought success, lay before him, yet taking full possession of it proved elusive. Competitors circled like vultures, eager to snatch away their breakthrough. Market forces loomed, threatening to drown their fledgling innovation. Alex's heart pounded with the weight of the struggle, but his resolve was unyielding. With his team by his side, they fought to secure their place in the industry, determined to protect their vision and make a lasting impact on the world."
      ],
      "text/plain": [
       "<IPython.core.display.Markdown object>"
      ]
     },
     "metadata": {},
     "output_type": "display_data"
    },
    {
     "data": {
      "text/markdown": [
       "### Return"
      ],
      "text/plain": [
       "<IPython.core.display.Markdown object>"
      ]
     },
     "metadata": {},
     "output_type": "display_data"
    },
    {
     "data": {
      "text/markdown": [
       "As dawn broke, painting the sky with hues of hope, Alex Thompson found himself back in the familiar embrace of his small office. The once-cramped space now felt like a sanctuary, a testament to the journey he and his team had endured. The prototype, their beacon of innovation, stood proudly on the desk, a symbol of their triumph over adversity. The air buzzed with a renewed sense of purpose, the weight of past struggles lifting as they prepared to launch their groundbreaking technology. With the shadows of competitors fading and the market's demands now a challenge they were ready to meet, Alex's heart brimmed with quiet confidence. He had returned, not just to his ordinary world, but to a place transformed by vision and perseverance, ready to make the impact he had always dreamed of."
      ],
      "text/plain": [
       "<IPython.core.display.Markdown object>"
      ]
     },
     "metadata": {},
     "output_type": "display_data"
    },
    {
     "data": {
      "text/markdown": [
       "### Change"
      ],
      "text/plain": [
       "<IPython.core.display.Markdown object>"
      ]
     },
     "metadata": {},
     "output_type": "display_data"
    },
    {
     "data": {
      "text/markdown": [
       "In the soft glow of morning light, Alex Thompson stood in the transformed office, a place once filled with uncertainty now brimming with promise. The prototype, a testament to their journey, gleamed with potential. Alex, no longer the cautious optimist, had become a visionary leader, his heart steady with newfound confidence. The trials had reshaped him, instilling a resilience that pulsed through the team. Together, they were poised to launch their innovation, ready to leave an indelible mark on the world. The journey had changed Alex, and with it, the future of their industry."
      ],
      "text/plain": [
       "<IPython.core.display.Markdown object>"
      ]
     },
     "metadata": {},
     "output_type": "display_data"
    }
   ],
   "source": [
    "display_outputs(writing)"
   ]
  },
  {
   "cell_type": "code",
   "execution_count": 13,
   "metadata": {},
   "outputs": [],
   "source": [
    "save_outputs(writing, tracking_index = str(7))"
   ]
  },
  {
   "cell_type": "code",
   "execution_count": null,
   "metadata": {},
   "outputs": [],
   "source": []
  }
 ],
 "metadata": {
  "kernelspec": {
   "display_name": ".env",
   "language": "python",
   "name": "python3"
  },
  "language_info": {
   "codemirror_mode": {
    "name": "ipython",
    "version": 3
   },
   "file_extension": ".py",
   "mimetype": "text/x-python",
   "name": "python",
   "nbconvert_exporter": "python",
   "pygments_lexer": "ipython3",
   "version": "3.9.19"
  }
 },
 "nbformat": 4,
 "nbformat_minor": 2
}
