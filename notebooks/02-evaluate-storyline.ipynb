{
 "cells": [
  {
   "cell_type": "markdown",
   "metadata": {},
   "source": [
    "# Storyline Evaluation\n",
    "\n",
    "Develop a Python-based solution with agentic behavior, leveraging an LLM model for reasoning, to evaluate the storyline of a prospective storyline. provide actionable insights.\n",
    "\n",
    "### Evaluation Criteria\n",
    "\n",
    "1. **Summary of the Storyline**  \n",
    "   A concise overview of the plot, including the main character(s), setting, and key events.\n",
    "\n",
    "2. **Main Themes/Genres**  \n",
    "   Identification of the central themes (e.g., love, adventure, redemption) and the genres (e.g., drama, comedy, thriller) that the storyline fits into.\n",
    "\n",
    "3. **Character Development**  \n",
    "   Analysis of how well the characters are developed, their arcs, motivations, and relationships.\n",
    "\n",
    "4. **Conflict and Resolution**  \n",
    "   Examination of the central conflict and how it drives the story, along with the effectiveness of the resolution.\n",
    "\n",
    "5. **Pacing and Structure**  \n",
    "   Assessment of the pacing of the storyline, including the balance of action, dialogue, and exposition, as well as the structural elements (e.g., acts, scenes).\n",
    "\n",
    "6. **Positive Aspects of the Storyline**  \n",
    "   Highlights of what works well in the storyline, such as originality, emotional impact, and engaging dialogue.\n",
    "\n",
    "7. **Areas for Improvement**  \n",
    "   Identification of elements that could be enhanced, such as character motivation, plot coherence, or thematic depth.\n",
    "\n",
    "8. **Marketability**  \n",
    "   An analysis of the potential market appeal of the story, including trends in the industry and comparable successful films.\n",
    "\n"
   ]
  },
  {
   "cell_type": "code",
   "execution_count": 1,
   "metadata": {},
   "outputs": [],
   "source": [
    "%load_ext autoreload\n",
    "%autoreload 2\n",
    "\n",
    "from src.read import ReadState, get_initial_state\n",
    "from src.workflow import ReadflowManager, display_outputs, save_outputs, load_outputs\n",
    "\n",
    "import os\n",
    "import json\n"
   ]
  },
  {
   "cell_type": "code",
   "execution_count": 2,
   "metadata": {},
   "outputs": [],
   "source": [
    "experiment_tracking_index = '0'\n",
    "full_text = load_outputs(experiment_tracking_index)"
   ]
  },
  {
   "cell_type": "code",
   "execution_count": 3,
   "metadata": {},
   "outputs": [],
   "source": [
    "initial_state = get_initial_state(full_text)"
   ]
  },
  {
   "cell_type": "code",
   "execution_count": 4,
   "metadata": {},
   "outputs": [],
   "source": [
    "readflow = ReadflowManager()\n",
    "reading = readflow.invoke(initial_state)"
   ]
  },
  {
   "cell_type": "code",
   "execution_count": 5,
   "metadata": {},
   "outputs": [
    {
     "data": {
      "text/markdown": [
       "### Storyline"
      ],
      "text/plain": [
       "<IPython.core.display.Markdown object>"
      ]
     },
     "metadata": {},
     "output_type": "display_data"
    },
    {
     "data": {
      "text/markdown": [
       "A young girl discovers a mystical forest behind her home, inhabited by \n",
       "            magical creatures. When the forest faces destruction from a greedy developer, \n",
       "            she rallies the creatures and her community to protect their enchanted world. \n",
       "\n",
       " In the ordinary world, the protagonist, Lily, is a curious and imaginative young girl living in a small, quiet town. Her days are filled with routine activities: attending school, helping her parents with chores, and spending time with her friends. Despite the simplicity of her life, Lily often feels a sense of longing for something more, something magical that she can't quite put her finger on. She spends her free time exploring the woods behind her home, captivated by the beauty of nature and the stories her grandmother used to tell her about mystical lands and magical creatures.\n",
       "\n",
       "Lily's initial state is one of innocence and wonder. She is deeply connected to the natural world, finding solace and inspiration in the rustling leaves and the songs of birds. However, she is also somewhat naive, unaware of the complexities and challenges that exist beyond her small town. Her heart is open and compassionate, always ready to help others, but she lacks the confidence to believe that she can make a significant impact on the world around her.\n",
       "\n",
       "When Lily stumbles upon the mystical forest, her world begins to change. The discovery ignites a spark within her, awakening a sense of purpose and determination she never knew she had. As she learns about the impending threat from the greedy developer, Lily realizes that she must step out of her comfort zone and fight to protect the enchanted world she has come to love. This journey will test her courage, resilience, and ability to unite both magical creatures and her community in a common cause. \n",
       "\n",
       " Lily's heart raced as she ventured deeper into the mystical forest, her eyes wide with wonder at the shimmering creatures and vibrant flora. The forest whispered secrets of ancient magic, and Lily felt an unexplainable bond with this enchanted realm. But when she overheard the developer's plans to raze the forest for profit, a fierce determination surged within her. The thought of losing this magical sanctuary filled her with urgency. She knew she had to act, to rally the creatures and her community, to protect the forest that had awakened her spirit and given her a sense of belonging. \n",
       "\n",
       " Lily's journey into the mystical forest was like stepping into a dream. The air shimmered with enchantment, and creatures of legend greeted her with curious eyes. As she wandered deeper, the forest revealed its secrets, each step unveiling wonders beyond her wildest imagination. The trees whispered tales of ancient times, and the ground pulsed with a magic that resonated with her very soul. Here, Lily felt truly alive, her heart beating in harmony with the forest's rhythm. But the shadow of the developer's greed loomed large, threatening to shatter this newfound world. With courage ignited by the forest's magic, Lily vowed to protect this sanctuary, uniting the creatures and her community in a battle to save the enchanted realm she now called home. \n",
       "\n",
       " Lily faced trials as she navigated the mystical forest, each challenge testing her resolve. She encountered riddles from wise old trees, crossed treacherous streams with the help of playful sprites, and learned to communicate with creatures who shared their fears of the looming threat. Her heart, once filled with innocence, now brimmed with determination and courage. As she rallied the magical beings and her community, Lily discovered her own strength, realizing that the power to protect the forest lay within her all along. Together, they prepared to stand against the developer, united in their love for the enchanted world. \n",
       "\n",
       " Lily's resolve was tested as she navigated the trials of uniting the magical creatures and her community. She faced skepticism and fear, but her unwavering spirit inspired those around her. With each challenge, Lily grew stronger, her bond with the forest deepening. Finally, she discovered the ancient heart of the forest, a glowing crystal that held the key to its magic. Empowered by this discovery, Lily knew she had found what she needed to protect the enchanted realm she loved. \n",
       "\n",
       " Lily stood before the ancient heart of the forest, the glowing crystal pulsating with life. Yet, as she reached out to claim it, a barrier of magic resisted her touch, testing her resolve. Doubt crept in, but the creatures rallied around her, their faith in her unwavering. With their support, Lily summoned the courage to embrace the crystal's power, feeling its warmth merge with her spirit. The forest's magic flowed through her, and she realized that true possession lay not in holding the crystal, but in the unity and love she had fostered. \n",
       "\n",
       " With the forest's magic coursing through her, Lily journeyed back to her ordinary world, her heart forever changed. The once quiet town now buzzed with stories of her bravery, and the community, inspired by her courage, vowed to protect their natural treasures. Lily, no longer the naive girl she once was, carried the forest's spirit within her, knowing that magic existed not just in enchanted realms, but in the unity and love of those who dared to dream. \n",
       "\n",
       " Lily returned to her ordinary world, transformed by her journey. The once-quiet town now thrived with a newfound appreciation for nature, inspired by her bravery. She was no longer the naive girl she once was; she carried the forest's spirit within her, knowing magic lived in unity and love."
      ],
      "text/plain": [
       "<IPython.core.display.Markdown object>"
      ]
     },
     "metadata": {},
     "output_type": "display_data"
    },
    {
     "data": {
      "text/markdown": [
       "### Summary"
      ],
      "text/plain": [
       "<IPython.core.display.Markdown object>"
      ]
     },
     "metadata": {},
     "output_type": "display_data"
    },
    {
     "data": {
      "text/markdown": [
       "1. **Ordinary World**: The protagonist, Lily, is a curious and imaginative young girl living in a small, quiet town. Her life is filled with routine activities, but she longs for something magical. She often explores the woods behind her home, inspired by her grandmother's stories of mystical lands and magical creatures.\n",
       "\n",
       "2. **Initial State**: Lily is characterized by innocence and wonder, deeply connected to nature but somewhat naive about the world's complexities. She is compassionate and willing to help others but lacks confidence in her ability to make a significant impact.\n",
       "\n",
       "3. **Discovery of the Mystical Forest**: Lily stumbles upon a mystical forest, igniting a sense of purpose and determination. This discovery marks the beginning of her transformation as she learns about the impending threat from a greedy developer planning to destroy the forest.\n",
       "\n",
       "4. **Call to Action**: The threat to the forest compels Lily to step out of her comfort zone. She feels a fierce determination to protect the enchanted world, realizing she must rally both the magical creatures and her community to save it.\n",
       "\n",
       "5. **Journey into the Forest**: As Lily ventures deeper into the mystical forest, she encounters shimmering creatures and vibrant flora. The forest reveals its secrets, and Lily feels an unexplainable bond with this enchanted realm, which fills her with a sense of belonging.\n",
       "\n",
       "6. **Challenges and Growth**: Lily faces trials in the forest, including riddles from wise trees and treacherous streams. She learns to communicate with the creatures, discovering her own strength and determination. Her heart, once filled with innocence, now brims with courage.\n",
       "\n",
       "7. **Rallying the Community and Creatures**: Despite skepticism and fear, Lily's unwavering spirit inspires those around her. She unites the magical beings and her community, preparing to stand against the developer.\n",
       "\n",
       "8. **Discovery of the Forest's Heart**: Lily finds the ancient heart of the forest, a glowing crystal that holds the key to its magic. Empowered by this discovery, she realizes that true power lies in unity and love.\n",
       "\n",
       "9. **Climactic Moment**: With the forest's magic flowing through her, Lily embraces the crystal's power, supported by the creatures' faith in her. She understands that possession is not about holding the crystal but fostering unity and love.\n",
       "\n",
       "10. **Return to the Ordinary World**: Transformed by her journey, Lily returns to her town, which now appreciates nature more deeply. She carries the forest's spirit within her, knowing that magic exists in unity and love, not just in enchanted realms."
      ],
      "text/plain": [
       "<IPython.core.display.Markdown object>"
      ]
     },
     "metadata": {},
     "output_type": "display_data"
    },
    {
     "data": {
      "text/markdown": [
       "### Main themes"
      ],
      "text/plain": [
       "<IPython.core.display.Markdown object>"
      ]
     },
     "metadata": {},
     "output_type": "display_data"
    },
    {
     "data": {
      "text/markdown": [
       "Lily, a curious and imaginative young girl from a quiet town, feels a longing for something magical beyond her routine life. Her world changes when she discovers a mystical forest behind her home, filled with magical creatures. This enchanted realm ignites a sense of purpose in Lily, especially when she learns of a greedy developer's plans to destroy it. Determined to protect the forest, Lily rallies the creatures and her community, facing trials that test her courage and resolve. She discovers the ancient heart of the forest, a glowing crystal, and realizes that true power lies in unity and love. Empowered by the forest's magic, Lily returns to her ordinary world, transformed and inspiring her community to cherish and protect nature. Her journey reveals that magic exists not just in enchanted realms but in the unity and love of those who dare to dream."
      ],
      "text/plain": [
       "<IPython.core.display.Markdown object>"
      ]
     },
     "metadata": {},
     "output_type": "display_data"
    },
    {
     "data": {
      "text/markdown": [
       "### Character development"
      ],
      "text/plain": [
       "<IPython.core.display.Markdown object>"
      ]
     },
     "metadata": {},
     "output_type": "display_data"
    },
    {
     "data": {
      "text/markdown": [
       "Lily, a curious and imaginative young girl from a quiet town, feels a longing for something magical beyond her routine life. She often explores the woods behind her home, inspired by her grandmother's tales of mystical lands. Her life changes when she discovers a mystical forest inhabited by magical creatures. This discovery awakens a sense of purpose in Lily, especially when she learns of a greedy developer's plans to destroy the forest. Determined to protect this enchanted world, Lily rallies the creatures and her community, facing trials that test her courage and resolve.\n",
       "\n",
       "As Lily ventures deeper into the forest, she encounters magical beings and overcomes challenges, growing stronger and more determined. Her bond with the forest deepens, and she discovers the ancient heart of the forest—a glowing crystal that holds its magic. Despite initial doubts, Lily embraces the crystal's power with the support of the creatures, realizing that true strength lies in unity and love.\n",
       "\n",
       "Transformed by her journey, Lily returns to her ordinary world, now carrying the forest's spirit within her. Her bravery inspires her community to appreciate and protect their natural treasures. No longer naive, Lily understands that magic exists not just in enchanted realms but in the unity and love of those who dare to dream."
      ],
      "text/plain": [
       "<IPython.core.display.Markdown object>"
      ]
     },
     "metadata": {},
     "output_type": "display_data"
    },
    {
     "data": {
      "text/markdown": [
       "### Conflict resolution"
      ],
      "text/plain": [
       "<IPython.core.display.Markdown object>"
      ]
     },
     "metadata": {},
     "output_type": "display_data"
    },
    {
     "data": {
      "text/markdown": [
       "Lily, a curious and imaginative young girl from a quiet town, discovers a mystical forest behind her home, filled with magical creatures. Initially innocent and longing for something magical, Lily's life changes when she learns of a greedy developer's plan to destroy the forest. This ignites a sense of purpose within her, prompting her to rally the creatures and her community to protect the enchanted realm. As she navigates the forest, Lily faces trials that test her courage and resolve, ultimately discovering her own strength and the power of unity. She finds the ancient heart of the forest, a glowing crystal, which symbolizes the magic and unity she has fostered. Empowered by the forest's magic and the support of the creatures, Lily returns to her ordinary world, transformed and inspiring her community to appreciate and protect nature. The story concludes with Lily carrying the spirit of the forest within her, realizing that true magic lies in unity and love."
      ],
      "text/plain": [
       "<IPython.core.display.Markdown object>"
      ]
     },
     "metadata": {},
     "output_type": "display_data"
    },
    {
     "data": {
      "text/markdown": [
       "### Pacing and structure"
      ],
      "text/plain": [
       "<IPython.core.display.Markdown object>"
      ]
     },
     "metadata": {},
     "output_type": "display_data"
    },
    {
     "data": {
      "text/markdown": [
       "1. **Key Moments Influencing Rhythm:**\n",
       "   - **Discovery of the Forest:** Ignites Lily's sense of purpose, shifting the story from routine to adventure.\n",
       "   - **Developer's Threat:** Introduces tension and urgency, propelling Lily into action.\n",
       "   - **Trials in the Forest:** Heighten tension and test Lily's resolve, maintaining engagement.\n",
       "   - **Discovery of the Crystal:** Provides a climactic moment of empowerment and resolution.\n",
       "\n",
       "2. **Structural Elements:**\n",
       "   - **Ordinary World:** Establishes Lily's character and longing for magic.\n",
       "   - **Call to Adventure:** Discovery of the mystical forest.\n",
       "   - **Rising Action:** Trials and community rallying.\n",
       "   - **Climax:** Embracing the forest's magic.\n",
       "   - **Resolution:** Return to the transformed ordinary world.\n",
       "\n",
       "3. **Narrative Flow and Engagement:**\n",
       "   - The structure follows a classic hero's journey, maintaining a balance between tension and resolution.\n",
       "   - Key moments are strategically placed to sustain audience interest and emotional investment."
      ],
      "text/plain": [
       "<IPython.core.display.Markdown object>"
      ]
     },
     "metadata": {},
     "output_type": "display_data"
    },
    {
     "data": {
      "text/markdown": [
       "### Pros"
      ],
      "text/plain": [
       "<IPython.core.display.Markdown object>"
      ]
     },
     "metadata": {},
     "output_type": "display_data"
    },
    {
     "data": {
      "text/markdown": [
       "**Part 5: Positive Points in the Storyline**\n",
       "\n",
       "1. **Relatable Protagonist**: Lily's character is well-developed, starting as a curious and imaginative young girl longing for something beyond her routine life. Her innocence and wonder make her relatable and endearing to the audience.\n",
       "\n",
       "2. **Engaging Setting**: The mystical forest is vividly described, creating a captivating and enchanting backdrop that draws readers into the story. The magical creatures and vibrant flora add depth and intrigue to the setting.\n",
       "\n",
       "3. **Clear Character Arc**: Lily's transformation from a naive girl to a courageous leader is compelling. Her journey of self-discovery and empowerment is well-paced and satisfying, highlighting her growth and resilience.\n",
       "\n",
       "4. **Strong Themes**: The story effectively conveys themes of unity, love, and environmental conservation. These themes resonate with contemporary issues, making the narrative both meaningful and relevant.\n",
       "\n",
       "5. **Conflict and Resolution**: The central conflict with the greedy developer provides a clear antagonist and driving force for the plot. The resolution, where Lily embraces the forest's magic and unites her community, is both impactful and uplifting.\n",
       "\n",
       "6. **Emotional Depth**: The narrative explores Lily's emotional journey, from her initial longing for magic to her determination to protect the forest. This emotional depth enhances the story's engagement and relatability.\n",
       "\n",
       "7. **Symbolism**: The ancient heart of the forest, a glowing crystal, serves as a powerful symbol of magic, unity, and love. It reinforces the story's themes and Lily's realization of true strength.\n",
       "\n",
       "8. **Community Involvement**: The inclusion of the community in the fight to save the forest adds a layer of realism and collective action, emphasizing the power of coming together for a common cause.\n",
       "\n",
       "9. **Inspirational Message**: The story concludes with an inspiring message about the magic of unity and love, encouraging readers to appreciate and protect the natural world around them."
      ],
      "text/plain": [
       "<IPython.core.display.Markdown object>"
      ]
     },
     "metadata": {},
     "output_type": "display_data"
    },
    {
     "data": {
      "text/markdown": [
       "### Cons"
      ],
      "text/plain": [
       "<IPython.core.display.Markdown object>"
      ]
     },
     "metadata": {},
     "output_type": "display_data"
    },
    {
     "data": {
      "text/markdown": [
       "**Part 6: Identifying Negative Points and Opportunities for Improvement**\n",
       "\n",
       "1. **Lack of Initial Conflict**: The story begins with Lily's longing for something magical, but the initial conflict is not immediately apparent. Introducing a minor conflict or challenge in her ordinary world could enhance engagement from the start.\n",
       "\n",
       "2. **Predictable Plot**: The storyline follows a familiar \"hero's journey\" arc, which may feel predictable. Adding unexpected twists or deeper character development could make the narrative more compelling.\n",
       "\n",
       "3. **Underdeveloped Antagonist**: The greedy developer is a typical antagonist with little depth. Providing more background or motivation for the developer could add complexity and tension to the story.\n",
       "\n",
       "4. **Rapid Transformation**: Lily's transformation from naive to courageous happens quickly. More gradual development with additional internal conflicts could make her growth more believable and relatable.\n",
       "\n",
       "5. **Limited Exploration of Themes**: While themes of unity and love are present, they could be explored more deeply. Incorporating subplots or secondary characters that challenge these themes might enrich the narrative.\n",
       "\n",
       "6. **Resolution Simplicity**: The resolution, where Lily embraces the crystal's power, feels straightforward. Introducing more nuanced challenges or moral dilemmas at this stage could enhance the story's depth.\n",
       "\n",
       "7. **Community Involvement**: The community's role in the story is somewhat passive. Highlighting their individual contributions or struggles could create a more dynamic and engaging narrative.\n",
       "\n",
       "8. **Magical World Details**: The mystical forest and its creatures are described, but more vivid and unique details could enhance the setting's enchantment and draw readers further into the world."
      ],
      "text/plain": [
       "<IPython.core.display.Markdown object>"
      ]
     },
     "metadata": {},
     "output_type": "display_data"
    },
    {
     "data": {
      "text/markdown": [
       "### Marketability"
      ],
      "text/plain": [
       "<IPython.core.display.Markdown object>"
      ]
     },
     "metadata": {},
     "output_type": "display_data"
    },
    {
     "data": {
      "text/markdown": [
       "**Part 7: Marketability Assessment**\n",
       "\n",
       "**Appealing Elements:**\n",
       "1. **Relatable Protagonist:** Lily's journey from innocence to empowerment resonates with young audiences.\n",
       "2. **Fantasy and Adventure:** The mystical forest and magical creatures captivate fans of fantasy.\n",
       "3. **Environmental Message:** The theme of protecting nature appeals to eco-conscious audiences.\n",
       "4. **Community and Unity:** Emphasizes the power of collective action and love.\n",
       "\n",
       "**Potential Challenges:**\n",
       "1. **Cliché Elements:** The \"greedy developer\" trope may feel overused.\n",
       "2. **Complexity for Younger Audiences:** Themes of unity and love might require careful handling to ensure clarity.\n",
       "3. **Market Saturation:** Competing with numerous fantasy stories in the market."
      ],
      "text/plain": [
       "<IPython.core.display.Markdown object>"
      ]
     },
     "metadata": {},
     "output_type": "display_data"
    }
   ],
   "source": [
    "display_outputs(reading)"
   ]
  },
  {
   "cell_type": "code",
   "execution_count": null,
   "metadata": {},
   "outputs": [],
   "source": []
  }
 ],
 "metadata": {
  "kernelspec": {
   "display_name": ".env",
   "language": "python",
   "name": "python3"
  },
  "language_info": {
   "codemirror_mode": {
    "name": "ipython",
    "version": 3
   },
   "file_extension": ".py",
   "mimetype": "text/x-python",
   "name": "python",
   "nbconvert_exporter": "python",
   "pygments_lexer": "ipython3",
   "version": "3.9.19"
  }
 },
 "nbformat": 4,
 "nbformat_minor": 2
}
