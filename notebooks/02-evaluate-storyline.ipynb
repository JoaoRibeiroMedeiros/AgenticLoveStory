{
 "cells": [
  {
   "cell_type": "markdown",
   "metadata": {},
   "source": [
    "# Storyline Evaluation\n",
    "\n",
    "Develop a Python-based solution with agentic behavior, leveraging an LLM model for reasoning, to evaluate the storyline of a prospective storyline. provide actionable insights.\n",
    "\n",
    "### Evaluation Criteria\n",
    "\n",
    "1. **Summary of the Storyline**  \n",
    "   A concise overview of the plot, including the main character(s), setting, and key events.\n",
    "\n",
    "2. **Main Themes/Genres**  \n",
    "   Identification of the central themes (e.g., love, adventure, redemption) and the genres (e.g., drama, comedy, thriller) that the storyline fits into.\n",
    "\n",
    "3. **Character Development**  \n",
    "   Analysis of how well the characters are developed, their arcs, motivations, and relationships.\n",
    "\n",
    "4. **Conflict and Resolution**  \n",
    "   Examination of the central conflict and how it drives the story, along with the effectiveness of the resolution.\n",
    "\n",
    "5. **Pacing and Structure**  \n",
    "   Assessment of the pacing of the storyline, including the balance of action, dialogue, and exposition, as well as the structural elements (e.g., acts, scenes).\n",
    "\n",
    "6. **Positive Aspects of the Storyline**  \n",
    "   Highlights of what works well in the storyline, such as originality, emotional impact, and engaging dialogue.\n",
    "\n",
    "7. **Areas for Improvement**  \n",
    "   Identification of elements that could be enhanced, such as character motivation, plot coherence, or thematic depth.\n",
    "\n",
    "8. **Marketability**  \n",
    "   An analysis of the potential market appeal of the story, including trends in the industry and comparable successful films.\n",
    "\n"
   ]
  },
  {
   "cell_type": "code",
   "execution_count": 1,
   "metadata": {},
   "outputs": [],
   "source": [
    "%load_ext autoreload\n",
    "%autoreload 2\n",
    "\n",
    "from src.read import ReadState, get_initial_state\n",
    "from src.workflow import ReadflowManager, display_outputs, save_outputs, load_outputs\n",
    "\n",
    "import os\n",
    "import json\n"
   ]
  },
  {
   "cell_type": "code",
   "execution_count": null,
   "metadata": {},
   "outputs": [],
   "source": [
    "experiment_tracking_index = '0'\n",
    "full_text = load_outputs(experiment_tracking_index)"
   ]
  },
  {
   "cell_type": "code",
   "execution_count": 2,
   "metadata": {},
   "outputs": [],
   "source": [
    "initial_state = get_initial_state(full_text)"
   ]
  },
  {
   "cell_type": "code",
   "execution_count": 3,
   "metadata": {},
   "outputs": [],
   "source": [
    "readflow = ReadflowManager()\n",
    "reading = readflow.invoke(initial_state)"
   ]
  },
  {
   "cell_type": "code",
   "execution_count": 4,
   "metadata": {},
   "outputs": [
    {
     "data": {
      "text/markdown": [
       "### Storyline"
      ],
      "text/plain": [
       "<IPython.core.display.Markdown object>"
      ]
     },
     "metadata": {},
     "output_type": "display_data"
    },
    {
     "data": {
      "text/markdown": [
       "A young girl discovers a mystical forest behind her home, inhabited by \n",
       "            magical creatures. When the forest faces destruction from a greedy developer, \n",
       "            she rallies the creatures and her community to protect their enchanted world. \n",
       "\n",
       " In the ordinary world, the protagonist, Lily, is a curious and imaginative young girl living in a small, quiet town. Her days are filled with routine activities: attending school, helping her parents with chores, and spending time with her friends. Despite the simplicity of her life, Lily often feels a sense of longing for something more, something magical that she can't quite put her finger on. She spends her free time exploring the woods behind her home, captivated by the beauty of nature and the stories her grandmother used to tell her about mystical lands and magical creatures.\n",
       "\n",
       "Lily's initial state is one of innocence and wonder. She is deeply connected to the natural world, finding solace and inspiration in the rustling leaves and the songs of birds. However, she is also somewhat naive, unaware of the complexities and challenges that exist beyond her small town. Her heart is open and compassionate, always ready to help others, but she lacks the confidence to believe that she can make a significant impact on the world around her.\n",
       "\n",
       "When Lily stumbles upon the mystical forest, her world begins to change. The discovery ignites a spark within her, awakening a sense of purpose and determination she never knew she had. As she learns about the impending threat from the greedy developer, Lily realizes that she must step out of her comfort zone and fight to protect the enchanted world she has come to love. This journey will test her courage, resilience, and ability to unite both magical creatures and her community in a common cause. \n",
       "\n",
       " Lily's heart raced as she ventured deeper into the mystical forest, her eyes wide with wonder at the shimmering creatures and vibrant flora. The forest whispered secrets of ancient magic, and Lily felt an unexplainable bond with this enchanted realm. But when she overheard the developer's plans to raze the forest for profit, a fierce determination surged within her. The thought of losing this magical sanctuary filled her with urgency. She knew she had to act, to rally the creatures and her community, to protect the forest that had awakened her spirit and given her a sense of belonging. \n",
       "\n",
       " Lily's journey into the mystical forest was like stepping into a dream. The air shimmered with enchantment, and creatures of legend greeted her with curious eyes. As she wandered deeper, the forest revealed its secrets, each step unveiling wonders beyond her wildest imagination. The trees whispered tales of ancient times, and the ground pulsed with a magic that resonated with her very soul. Here, Lily felt truly alive, her heart beating in harmony with the forest's rhythm. But the shadow of the developer's greed loomed large, threatening to shatter this newfound world. With courage ignited by the forest's magic, Lily vowed to protect this sanctuary, uniting the creatures and her community in a battle to save the enchanted realm she now called home. \n",
       "\n",
       " Lily faced trials as she navigated the mystical forest, each challenge testing her resolve. She encountered riddles from wise old trees, crossed treacherous streams with the help of playful sprites, and learned to communicate with creatures who shared their fears of the looming threat. Her heart, once filled with innocence, now brimmed with determination and courage. As she rallied the magical beings and her community, Lily discovered her own strength, realizing that the power to protect the forest lay within her all along. Together, they prepared to stand against the developer, united in their love for the enchanted world. \n",
       "\n",
       " Lily's resolve was tested as she navigated the trials of uniting the magical creatures and her community. She faced skepticism and fear, but her unwavering spirit inspired those around her. With each challenge, Lily grew stronger, her bond with the forest deepening. Finally, she discovered the ancient heart of the forest, a glowing crystal that held the key to its magic. Empowered by this discovery, Lily knew she had found what she needed to protect the enchanted realm she loved. \n",
       "\n",
       " Lily stood before the ancient heart of the forest, the glowing crystal pulsating with life. Yet, as she reached out to claim it, a barrier of magic resisted her touch, testing her resolve. Doubt crept in, but the creatures rallied around her, their faith in her unwavering. With their support, Lily summoned the courage to embrace the crystal's power, feeling its warmth merge with her spirit. The forest's magic flowed through her, and she realized that true possession lay not in holding the crystal, but in the unity and love she had fostered. \n",
       "\n",
       " With the forest's magic coursing through her, Lily journeyed back to her ordinary world, her heart forever changed. The once quiet town now buzzed with stories of her bravery, and the community, inspired by her courage, vowed to protect their natural treasures. Lily, no longer the naive girl she once was, carried the forest's spirit within her, knowing that magic existed not just in enchanted realms, but in the unity and love of those who dared to dream. \n",
       "\n",
       " Lily returned to her ordinary world, transformed by her journey. The once-quiet town now thrived with a newfound appreciation for nature, inspired by her bravery. She was no longer the naive girl she once was; she carried the forest's spirit within her, knowing magic lived in unity and love."
      ],
      "text/plain": [
       "<IPython.core.display.Markdown object>"
      ]
     },
     "metadata": {},
     "output_type": "display_data"
    },
    {
     "data": {
      "text/markdown": [
       "### Summary"
      ],
      "text/plain": [
       "<IPython.core.display.Markdown object>"
      ]
     },
     "metadata": {},
     "output_type": "display_data"
    },
    {
     "data": {
      "text/markdown": [
       "1. **Ordinary World**: The protagonist, Lily, is a curious and imaginative young girl living in a small, quiet town. Her life is filled with routine activities, and she often feels a longing for something magical.\n",
       "\n",
       "2. **Connection to Nature**: Lily is deeply connected to the natural world, finding solace and inspiration in the woods behind her home. She is captivated by the beauty of nature and the stories of mystical lands and magical creatures told by her grandmother.\n",
       "\n",
       "3. **Initial State**: Lily is innocent and somewhat naive, unaware of the complexities beyond her small town. She is compassionate and ready to help others but lacks confidence in her ability to make a significant impact.\n",
       "\n",
       "4. **Discovery of the Mystical Forest**: Lily stumbles upon a mystical forest behind her home, inhabited by magical creatures. This discovery ignites a sense of purpose and determination within her.\n",
       "\n",
       "5. **Threat of Destruction**: The forest faces destruction from a greedy developer. Lily overhears the developer's plans to raze the forest for profit, which fills her with urgency to act.\n",
       "\n",
       "6. **Call to Action**: Lily realizes she must step out of her comfort zone to protect the enchanted world she loves. She is determined to rally the creatures and her community to save the forest.\n",
       "\n",
       "7. **Journey into the Forest**: Lily ventures deeper into the mystical forest, encountering shimmering creatures and vibrant flora. The forest reveals its secrets, and Lily feels an unexplainable bond with this enchanted realm.\n",
       "\n",
       "8. **Trials and Challenges**: Lily faces trials in the forest, including riddles from wise trees and treacherous streams. She learns to communicate with creatures who share their fears of the looming threat.\n",
       "\n",
       "9. **Growth and Strength**: Through these challenges, Lily discovers her own strength and courage. Her heart, once filled with innocence, now brims with determination.\n",
       "\n",
       "10. **Uniting the Community**: Lily faces skepticism and fear but inspires those around her with her unwavering spirit. She unites the magical creatures and her community in a common cause.\n",
       "\n",
       "11. **Discovery of the Forest's Heart**: Lily discovers the ancient heart of the forest, a glowing crystal that holds the key to its magic. Empowered by this discovery, she knows she has what she needs to protect the enchanted realm.\n",
       "\n",
       "12. **Embracing the Magic**: With the support of the creatures, Lily embraces the crystal's power, realizing that true possession lies in unity and love.\n",
       "\n",
       "13. **Return to the Ordinary World**: Lily returns to her ordinary world, transformed by her journey. The town is inspired by her bravery and vows to protect their natural treasures.\n",
       "\n",
       "14. **Transformation**: Lily is no longer the naive girl she once was. She carries the forest's spirit within her, knowing that magic exists in unity and love."
      ],
      "text/plain": [
       "<IPython.core.display.Markdown object>"
      ]
     },
     "metadata": {},
     "output_type": "display_data"
    },
    {
     "data": {
      "text/markdown": [
       "### Main themes"
      ],
      "text/plain": [
       "<IPython.core.display.Markdown object>"
      ]
     },
     "metadata": {},
     "output_type": "display_data"
    },
    {
     "data": {
      "text/markdown": [
       "Lily, a curious and imaginative young girl from a quiet town, feels a longing for something magical beyond her routine life. Her world changes when she discovers a mystical forest behind her home, filled with magical creatures. This enchanted realm ignites a sense of purpose in Lily, especially when she learns of a greedy developer's plans to destroy it. Determined to protect the forest, Lily rallies the creatures and her community, facing trials that test her courage and resolve. As she unites them, she discovers her inner strength and the power of love and unity. Her journey leads her to the ancient heart of the forest, a glowing crystal that embodies its magic. With the creatures' support, Lily embraces the crystal's power, realizing true magic lies in the unity she has fostered. Transformed by her journey, Lily returns to her town, inspiring her community to cherish and protect their natural treasures. No longer naive, she carries the forest's spirit within her, knowing that magic exists in the unity and love of those who dare to dream."
      ],
      "text/plain": [
       "<IPython.core.display.Markdown object>"
      ]
     },
     "metadata": {},
     "output_type": "display_data"
    },
    {
     "data": {
      "text/markdown": [
       "### Character development"
      ],
      "text/plain": [
       "<IPython.core.display.Markdown object>"
      ]
     },
     "metadata": {},
     "output_type": "display_data"
    },
    {
     "data": {
      "text/markdown": [
       "Lily, a curious and imaginative young girl from a quiet town, feels a longing for something magical beyond her routine life. She often explores the woods behind her home, inspired by her grandmother's tales of mystical lands. Her life changes when she discovers a mystical forest inhabited by magical creatures. This discovery awakens a sense of purpose in Lily, especially when she learns of a greedy developer's plans to destroy the forest. Determined to protect this enchanted world, Lily steps out of her comfort zone, rallying the creatures and her community to fight against the threat.\n",
       "\n",
       "As Lily ventures deeper into the forest, she encounters shimmering creatures and vibrant flora, feeling an unexplainable bond with the enchanted realm. The forest reveals its secrets, and Lily's heart beats in harmony with its magic. Despite the looming threat of the developer, Lily's courage is ignited by the forest's magic, and she vows to protect it. She faces trials, solving riddles from wise trees, crossing streams with sprites, and communicating with creatures who share her fears. Through these challenges, Lily discovers her inner strength and the power to unite her community and the magical beings.\n",
       "\n",
       "Lily's resolve is tested as she faces skepticism and fear while uniting the magical creatures and her community. Her unwavering spirit inspires those around her, and she grows stronger with each challenge. She discovers the ancient heart of the forest, a glowing crystal that holds the key to its magic. Empowered by this discovery, Lily realizes that true possession lies in the unity and love she has fostered.\n",
       "\n",
       "With the forest's magic coursing through her, Lily returns to her ordinary world, transformed by her journey. Her once-quiet town now thrives with a newfound appreciation for nature, inspired by her bravery. Lily, no longer the naive girl she once was, carries the forest's spirit within her, knowing that magic exists not just in enchanted realms, but in the unity and love of those who dare to dream."
      ],
      "text/plain": [
       "<IPython.core.display.Markdown object>"
      ]
     },
     "metadata": {},
     "output_type": "display_data"
    },
    {
     "data": {
      "text/markdown": [
       "### Conflict resolution"
      ],
      "text/plain": [
       "<IPython.core.display.Markdown object>"
      ]
     },
     "metadata": {},
     "output_type": "display_data"
    },
    {
     "data": {
      "text/markdown": [
       "Lily, a curious young girl from a quiet town, discovers a mystical forest behind her home, filled with magical creatures. Initially innocent and longing for magic, Lily's life changes when she learns of a greedy developer's plan to destroy the forest. This threat ignites her determination to protect the enchanted realm. As she ventures deeper into the forest, she encounters magical beings and overcomes challenges, growing in courage and strength. With the support of the creatures and her community, Lily unites them to stand against the developer. She discovers the forest's ancient heart, a glowing crystal, which empowers her with its magic. Embracing the crystal's power, Lily realizes that true strength lies in unity and love. Returning to her ordinary world, she is transformed, inspiring her community to appreciate and protect nature. Lily's journey highlights the magic found in unity and the courage to protect what one loves."
      ],
      "text/plain": [
       "<IPython.core.display.Markdown object>"
      ]
     },
     "metadata": {},
     "output_type": "display_data"
    },
    {
     "data": {
      "text/markdown": [
       "### Pacing and structure"
      ],
      "text/plain": [
       "<IPython.core.display.Markdown object>"
      ]
     },
     "metadata": {},
     "output_type": "display_data"
    },
    {
     "data": {
      "text/markdown": [
       "1. **Pacing and Tension**: Key moments influencing the story's rhythm include Lily's discovery of the mystical forest, the overhearing of the developer's plans, and the trials she faces within the forest. These scenes heighten tension and drive the narrative forward.\n",
       "\n",
       "2. **Structural Elements**: The story follows a classic hero's journey structure, with Lily's ordinary world, call to action, trials, and transformation. This structure maintains narrative flow and audience engagement.\n",
       "\n",
       "3. **Breaks and Reflection**: Scenes of Lily's connection to nature and her interactions with magical creatures provide necessary breaks, allowing for character development and reflection.\n",
       "\n",
       "4. **Narrative Flow**: The progression from innocence to empowerment, and the theme of unity, ensures a cohesive and engaging storyline."
      ],
      "text/plain": [
       "<IPython.core.display.Markdown object>"
      ]
     },
     "metadata": {},
     "output_type": "display_data"
    },
    {
     "data": {
      "text/markdown": [
       "### Pros"
      ],
      "text/plain": [
       "<IPython.core.display.Markdown object>"
      ]
     },
     "metadata": {},
     "output_type": "display_data"
    },
    {
     "data": {
      "text/markdown": [
       "**Part 5: Positive Points in the Storyline**\n",
       "\n",
       "1. **Strong Protagonist Development**: Lily's transformation from a naive girl to a courageous leader is compelling. Her growth is well-paced, showing her evolving confidence and determination.\n",
       "\n",
       "2. **Engaging Setting**: The mystical forest is vividly described, creating a captivating backdrop that enhances the magical elements of the story. The forest's enchantment is a central, immersive aspect.\n",
       "\n",
       "3. **Clear Conflict**: The threat of the greedy developer provides a tangible and relatable antagonist, driving the narrative forward and giving Lily a clear purpose.\n",
       "\n",
       "4. **Themes of Unity and Love**: The story effectively conveys themes of unity, love, and environmental conservation, resonating with readers and adding depth to the narrative.\n",
       "\n",
       "5. **Emotional Resonance**: Lily's bond with the forest and its creatures evokes empathy, making her quest to protect the enchanted realm emotionally engaging.\n",
       "\n",
       "6. **Community Involvement**: The inclusion of the community in the fight against the developer adds realism and highlights the power of collective action.\n",
       "\n",
       "7. **Symbolic Elements**: The glowing crystal as the heart of the forest symbolizes the magic of unity and love, reinforcing the story's themes.\n",
       "\n",
       "8. **Resolution and Transformation**: The resolution is satisfying, with Lily's transformation inspiring her community, leaving a lasting impact on both the characters and the audience."
      ],
      "text/plain": [
       "<IPython.core.display.Markdown object>"
      ]
     },
     "metadata": {},
     "output_type": "display_data"
    },
    {
     "data": {
      "text/markdown": [
       "### Cons"
      ],
      "text/plain": [
       "<IPython.core.display.Markdown object>"
      ]
     },
     "metadata": {},
     "output_type": "display_data"
    },
    {
     "data": {
      "text/markdown": [
       "**Part 6: Identifying Negative Points and Opportunities for Improvement**\n",
       "\n",
       "1. **Lack of Initial Conflict**: The story begins with Lily's longing for magic but lacks an immediate conflict or tension to engage the audience. Introducing a minor conflict or challenge early on could enhance engagement.\n",
       "\n",
       "2. **Predictable Plot**: The storyline follows a familiar \"hero's journey\" arc, which may feel predictable. Adding unexpected twists or deeper character development could make the narrative more compelling.\n",
       "\n",
       "3. **Underdeveloped Antagonist**: The greedy developer is a one-dimensional antagonist. Providing more background or motivation for the developer could add depth and complexity to the conflict.\n",
       "\n",
       "4. **Rapid Character Transformation**: Lily's transformation from naive to courageous feels abrupt. More gradual development with additional scenes showing her growth could make her journey more believable.\n",
       "\n",
       "5. **Limited Exploration of Themes**: While themes of unity and love are present, they could be explored more deeply. Incorporating subplots or secondary characters that challenge these themes could enrich the story.\n",
       "\n",
       "6. **Resolution Simplicity**: The resolution, where Lily embraces the crystal's power, feels too straightforward. Introducing additional obstacles or moral dilemmas could enhance the story's climax and resolution.\n",
       "\n",
       "7. **Community Involvement**: The community's role in the story is minimal until the end. Integrating their involvement earlier and more consistently could strengthen the theme of unity and collective action."
      ],
      "text/plain": [
       "<IPython.core.display.Markdown object>"
      ]
     },
     "metadata": {},
     "output_type": "display_data"
    },
    {
     "data": {
      "text/markdown": [
       "### Marketability"
      ],
      "text/plain": [
       "<IPython.core.display.Markdown object>"
      ]
     },
     "metadata": {},
     "output_type": "display_data"
    },
    {
     "data": {
      "text/markdown": [
       "**Part 7: Marketability Assessment**\n",
       "\n",
       "**Appealing Elements:**\n",
       "1. **Relatable Protagonist:** Lily's curiosity and growth resonate with young audiences.\n",
       "2. **Environmental Theme:** Timely message of conservation appeals to eco-conscious viewers.\n",
       "3. **Fantasy Elements:** Magical creatures and mystical settings attract fans of fantasy genres.\n",
       "4. **Community and Unity:** Emphasizes the power of collective action, inspiring audiences.\n",
       "\n",
       "**Potential Challenges:**\n",
       "1. **Predictability:** Risk of being seen as a typical \"save the environment\" story.\n",
       "2. **Complexity of Themes:** Balancing fantasy with real-world issues may be challenging.\n",
       "3. **Target Audience:** Ensuring appeal across different age groups could be difficult."
      ],
      "text/plain": [
       "<IPython.core.display.Markdown object>"
      ]
     },
     "metadata": {},
     "output_type": "display_data"
    }
   ],
   "source": [
    "display_outputs(reading)"
   ]
  },
  {
   "cell_type": "code",
   "execution_count": null,
   "metadata": {},
   "outputs": [],
   "source": []
  }
 ],
 "metadata": {
  "kernelspec": {
   "display_name": ".env",
   "language": "python",
   "name": "python3"
  },
  "language_info": {
   "codemirror_mode": {
    "name": "ipython",
    "version": 3
   },
   "file_extension": ".py",
   "mimetype": "text/x-python",
   "name": "python",
   "nbconvert_exporter": "python",
   "pygments_lexer": "ipython3",
   "version": "3.9.19"
  }
 },
 "nbformat": 4,
 "nbformat_minor": 2
}
