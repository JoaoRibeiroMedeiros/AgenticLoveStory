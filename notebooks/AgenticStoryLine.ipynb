{
 "cells": [
  {
   "cell_type": "markdown",
   "metadata": {},
   "source": [
    "# Storyline Evaluation\n",
    "\n",
    "Develop a Python-based solution with agentic behavior, leveraging an LLM model for reasoning, to evaluate the storyline of a prospective storyline. provide actionable insights.\n",
    "\n",
    "### Evaluation Criteria\n",
    "\n",
    "1. **Summary of the Storyline**  \n",
    "   A concise overview of the plot, including the main character(s), setting, and key events.\n",
    "\n",
    "2. **Main Themes/Genres**  \n",
    "   Identification of the central themes (e.g., love, adventure, redemption) and the genres (e.g., drama, comedy, thriller) that the storyline fits into.\n",
    "\n",
    "3. **Character Development**  \n",
    "   Analysis of how well the characters are developed, their arcs, motivations, and relationships.\n",
    "\n",
    "4. **Conflict and Resolution**  \n",
    "   Examination of the central conflict and how it drives the story, along with the effectiveness of the resolution.\n",
    "\n",
    "5. **Pacing and Structure**  \n",
    "   Assessment of the pacing of the storyline, including the balance of action, dialogue, and exposition, as well as the structural elements (e.g., acts, scenes).\n",
    "\n",
    "6. **Positive Aspects of the Storyline**  \n",
    "   Highlights of what works well in the storyline, such as originality, emotional impact, and engaging dialogue.\n",
    "\n",
    "7. **Areas for Improvement**  \n",
    "   Identification of elements that could be enhanced, such as character motivation, plot coherence, or thematic depth.\n",
    "\n",
    "8. **Marketability**  \n",
    "   An analysis of the potential market appeal of the story, including trends in the industry and comparable successful films.\n",
    "\n"
   ]
  },
  {
   "cell_type": "code",
   "execution_count": 14,
   "metadata": {},
   "outputs": [
    {
     "name": "stdout",
     "output_type": "stream",
     "text": [
      "The autoreload extension is already loaded. To reload it, use:\n",
      "  %reload_ext autoreload\n"
     ]
    },
    {
     "name": "stderr",
     "output_type": "stream",
     "text": [
      "[autoreload of src.read failed: Traceback (most recent call last):\n",
      "  File \"/Users/joao/AgenticLoveStory/.env/lib/python3.9/site-packages/IPython/extensions/autoreload.py\", line 276, in check\n",
      "    superreload(m, reload, self.old_objects)\n",
      "  File \"/Users/joao/AgenticLoveStory/.env/lib/python3.9/site-packages/IPython/extensions/autoreload.py\", line 475, in superreload\n",
      "    module = reload(module)\n",
      "  File \"/opt/homebrew/Cellar/python@3.9/3.9.19_1/Frameworks/Python.framework/Versions/3.9/lib/python3.9/importlib/__init__.py\", line 169, in reload\n",
      "    _bootstrap._exec(spec, module)\n",
      "  File \"<frozen importlib._bootstrap>\", line 613, in _exec\n",
      "  File \"<frozen importlib._bootstrap_external>\", line 846, in exec_module\n",
      "  File \"<frozen importlib._bootstrap_external>\", line 983, in get_code\n",
      "  File \"<frozen importlib._bootstrap_external>\", line 913, in source_to_code\n",
      "  File \"<frozen importlib._bootstrap>\", line 228, in _call_with_frames_removed\n",
      "  File \"/Users/joao/AgenticLoveStory/src/read.py\", line 118\n",
      "    )\n",
      "    ^\n",
      "SyntaxError: invalid syntax\n",
      "]\n"
     ]
    }
   ],
   "source": [
    "%load_ext autoreload\n",
    "%autoreload 2\n",
    "\n",
    "from langchain_aws import BedrockLLM\n",
    "from langchain.prompts import PromptTemplate\n",
    "from langchain.chains import LLMChain\n",
    "from pydantic import BaseModel, Field\n",
    "import os\n",
    "import json\n",
    "from langsmith import traceable"
   ]
  },
  {
   "cell_type": "code",
   "execution_count": 15,
   "metadata": {},
   "outputs": [],
   "source": [
    "from langchain_openai import ChatOpenAI\n",
    "from langgraph.graph import END, START, StateGraph\n",
    "import os\n",
    "\n",
    "with open('config.json', 'r') as config_file:\n",
    "    config = json.load(config_file)\n",
    "    \n",
    "os.environ[\"OPEN_API_KEY\"] = config[\"OPENAI_API_SECRET_KEY\"]\n",
    "\n",
    "model = ChatOpenAI(model=\"gpt-4o\",\n",
    "                   max_tokens=2000,\n",
    "                   temperature=0,\n",
    "                   top_p=1,\n",
    "                   api_key= os.environ[\"OPEN_API_KEY\"])\n",
    "\n",
    "\n"
   ]
  },
  {
   "cell_type": "code",
   "execution_count": 20,
   "metadata": {},
   "outputs": [],
   "source": [
    "storyline_1 = \"A young scientist invents a time machine and accidentally travels back to the year 1920, where he must navigate the challenges of the past while trying to return to his own time, ultimately learning valuable lessons about his present life.\"\n",
    "\n",
    "storyline_2 = \"A group of friends stumbles upon a treasure map while cleaning out an old attic. They embark on an adventure filled with challenges and puzzles, leading them to uncover not only hidden gold but also the importance of friendship and teamwork.\"\n",
    "\n",
    "storyline_3 = \"A shy teenager moves to a new town and struggles to fit in. Through unexpected friendships and participation in school events, they discover their true self and gain the confidence to embrace their individuality.\"\n",
    "\n",
    "storyline_4 = \"A young girl discovers a mystical forest behind her home, inhabited by magical creatures. When the forest faces destruction from a greedy developer, she rallies the creatures and her community to protect their enchanted world.\"\n",
    "\n",
    "storyline_5 = \"A clumsy office worker finds themselves in the middle of a heist at their workplace. Through a series of accidental actions, they become an unlikely hero, proving that courage and quick thinking can arise from the most unexpected people.\"\n",
    "\n",
    "storyline_6 = \"An aging rock musician, down on his luck, reconnects with his estranged daughter after years of absence. Together, they embark on a journey of healing, rediscovering their passion for music and the bonds of family along the way.\""
   ]
  },
  {
   "cell_type": "code",
   "execution_count": 24,
   "metadata": {},
   "outputs": [
    {
     "ename": "ImportError",
     "evalue": "cannot import name 'ReadState' from 'src.read' (/Users/joao/AgenticLoveStory/src/read.py)",
     "output_type": "error",
     "traceback": [
      "\u001b[0;31m---------------------------------------------------------------------------\u001b[0m",
      "\u001b[0;31mImportError\u001b[0m                               Traceback (most recent call last)",
      "Cell \u001b[0;32mIn[24], line 1\u001b[0m\n\u001b[0;32m----> 1\u001b[0m \u001b[38;5;28;01mfrom\u001b[39;00m \u001b[38;5;21;01msrc\u001b[39;00m\u001b[38;5;21;01m.\u001b[39;00m\u001b[38;5;21;01mread\u001b[39;00m \u001b[38;5;28;01mimport\u001b[39;00m ReadState\n\u001b[1;32m      3\u001b[0m \u001b[38;5;66;03m# Define the path to the JSON file\u001b[39;00m\n\u001b[1;32m      4\u001b[0m json_file_path \u001b[38;5;241m=\u001b[39m \u001b[38;5;124m'\u001b[39m\u001b[38;5;124mprompts_per_action.json\u001b[39m\u001b[38;5;124m'\u001b[39m\n",
      "\u001b[0;31mImportError\u001b[0m: cannot import name 'ReadState' from 'src.read' (/Users/joao/AgenticLoveStory/src/read.py)"
     ]
    }
   ],
   "source": [
    "from src.read import ReadState\n",
    "\n",
    "# Define the path to the JSON file\n",
    "json_file_path = 'prompts_per_action.json'\n",
    "\n",
    "# Read the JSON file and load the prompts\n",
    "with open(json_file_path, 'r') as file:\n",
    "    prompts_per_action = json.load(file)\n",
    "\n",
    "outputs = {action: \"\" for action in list(prompts_per_action.keys())}\n",
    "\n",
    "initial_state =  ReadState(prompts = prompts_per_action, outputs = outputs)"
   ]
  },
  {
   "cell_type": "code",
   "execution_count": 25,
   "metadata": {},
   "outputs": [
    {
     "ename": "ImportError",
     "evalue": "cannot import name 'StateGraph' from 'langgraph' (unknown location)",
     "output_type": "error",
     "traceback": [
      "\u001b[0;31m---------------------------------------------------------------------------\u001b[0m",
      "\u001b[0;31mImportError\u001b[0m                               Traceback (most recent call last)",
      "Cell \u001b[0;32mIn[25], line 1\u001b[0m\n\u001b[0;32m----> 1\u001b[0m \u001b[38;5;28;01mfrom\u001b[39;00m \u001b[38;5;21;01msrc\u001b[39;00m\u001b[38;5;21;01m.\u001b[39;00m\u001b[38;5;21;01mworkflow\u001b[39;00m \u001b[38;5;28;01mimport\u001b[39;00m WorkflowManager\n\u001b[1;32m      3\u001b[0m workflow \u001b[38;5;241m=\u001b[39m WorkflowManager()\n\u001b[1;32m      6\u001b[0m output \u001b[38;5;241m=\u001b[39m app\u001b[38;5;241m.\u001b[39minvoke(\u001b[38;5;28minput\u001b[39m \u001b[38;5;241m=\u001b[39m initial_state)\n",
      "File \u001b[0;32m~/AgenticLoveStory/src/workflow.py:1\u001b[0m\n\u001b[0;32m----> 1\u001b[0m \u001b[38;5;28;01mfrom\u001b[39;00m \u001b[38;5;21;01mlanggraph\u001b[39;00m \u001b[38;5;28;01mimport\u001b[39;00m StateGraph\n\u001b[1;32m      2\u001b[0m \u001b[38;5;28;01mfrom\u001b[39;00m \u001b[38;5;21;01msrc\u001b[39;00m\u001b[38;5;21;01m.\u001b[39;00m\u001b[38;5;21;01mread\u001b[39;00m \u001b[38;5;28;01mimport\u001b[39;00m (\n\u001b[1;32m      3\u001b[0m     make_summary,\n\u001b[1;32m      4\u001b[0m     get_main_themes,\n\u001b[0;32m   (...)\u001b[0m\n\u001b[1;32m     19\u001b[0m     ReadState\n\u001b[1;32m     20\u001b[0m )\n\u001b[1;32m     22\u001b[0m \u001b[38;5;28;01mclass\u001b[39;00m \u001b[38;5;21;01mWorkflowManager\u001b[39;00m:\n",
      "\u001b[0;31mImportError\u001b[0m: cannot import name 'StateGraph' from 'langgraph' (unknown location)"
     ]
    }
   ],
   "source": [
    "from src.workflow import WorkflowManager\n",
    "\n",
    "workflow = WorkflowManager()\n",
    "\n",
    "\n",
    "output = app.invoke(input = initial_state)"
   ]
  },
  {
   "cell_type": "code",
   "execution_count": null,
   "metadata": {},
   "outputs": [],
   "source": []
  }
 ],
 "metadata": {
  "kernelspec": {
   "display_name": ".env",
   "language": "python",
   "name": "python3"
  },
  "language_info": {
   "codemirror_mode": {
    "name": "ipython",
    "version": 3
   },
   "file_extension": ".py",
   "mimetype": "text/x-python",
   "name": "python",
   "nbconvert_exporter": "python",
   "pygments_lexer": "ipython3",
   "version": "3.9.19"
  }
 },
 "nbformat": 4,
 "nbformat_minor": 2
}
