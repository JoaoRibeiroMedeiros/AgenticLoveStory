{
 "cells": [
  {
   "cell_type": "markdown",
   "metadata": {},
   "source": [
    "# Storyline Evaluation\n",
    "\n",
    "Develop a Python-based solution with agentic behavior, leveraging an LLM model for reasoning, to evaluate the storyline of a prospective storyline. provide actionable insights.\n",
    "\n",
    "### Evaluation Criteria\n",
    "\n",
    "1. **Summary of the Storyline**  \n",
    "   A concise overview of the plot, including the main character(s), setting, and key events.\n",
    "\n",
    "2. **Main Themes/Genres**  \n",
    "   Identification of the central themes (e.g., love, adventure, redemption) and the genres (e.g., drama, comedy, thriller) that the storyline fits into.\n",
    "\n",
    "3. **Character Development**  \n",
    "   Analysis of how well the characters are developed, their arcs, motivations, and relationships.\n",
    "\n",
    "4. **Conflict and Resolution**  \n",
    "   Examination of the central conflict and how it drives the story, along with the effectiveness of the resolution.\n",
    "\n",
    "5. **Pacing and Structure**  \n",
    "   Assessment of the pacing of the storyline, including the balance of action, dialogue, and exposition, as well as the structural elements (e.g., acts, scenes).\n",
    "\n",
    "6. **Positive Aspects of the Storyline**  \n",
    "   Highlights of what works well in the storyline, such as originality, emotional impact, and engaging dialogue.\n",
    "\n",
    "7. **Areas for Improvement**  \n",
    "   Identification of elements that could be enhanced, such as character motivation, plot coherence, or thematic depth.\n",
    "\n",
    "8. **Marketability**  \n",
    "   An analysis of the potential market appeal of the story, including trends in the industry and comparable successful films.\n",
    "\n"
   ]
  },
  {
   "cell_type": "code",
   "execution_count": 101,
   "metadata": {},
   "outputs": [
    {
     "name": "stdout",
     "output_type": "stream",
     "text": [
      "The autoreload extension is already loaded. To reload it, use:\n",
      "  %reload_ext autoreload\n"
     ]
    }
   ],
   "source": [
    "%load_ext autoreload\n",
    "%autoreload 2\n",
    "\n",
    "from langchain_aws import BedrockLLM\n",
    "from langchain.prompts import PromptTemplate\n",
    "from langchain.chains import LLMChain\n",
    "from pydantic import BaseModel, Field\n",
    "import os\n",
    "import json\n",
    "from langsmith import traceable\n",
    "\n",
    "from src.read import ReadState\n",
    "from src.read import get_initial_state\n",
    "from src.workflow import WorkflowManager, display_outputs\n"
   ]
  },
  {
   "cell_type": "code",
   "execution_count": 102,
   "metadata": {},
   "outputs": [],
   "source": [
    "storyline_1 = \"\"\"A young scientist invents a time machine and accidentally \n",
    "            travels back to the year 1920, where he must navigate the challenges \n",
    "            of the past while trying to return to his own time, \n",
    "            ultimately learning valuable lessons about his present life.\"\"\"\n",
    "\n",
    "storyline_2 = \"\"\"A group of friends stumbles upon a treasure map while cleaning \n",
    "            out an old attic. They embark on an adventure filled with challenges \n",
    "            and puzzles, leading them to uncover not only hidden gold but also \n",
    "            the importance of friendship and teamwork.\"\"\"\n",
    "\n",
    "storyline_3 = \"\"\"A shy teenager moves to a new town and struggles to fit in. Through \n",
    "            unexpected friendships and participation in school events, they discover \n",
    "            their true self and gain the confidence to embrace their individuality.\"\"\"\n",
    "\n",
    "storyline_4 = \"\"\"A young girl discovers a mystical forest behind her home, inhabited by \n",
    "            magical creatures. When the forest faces destruction from a greedy developer, \n",
    "            she rallies the creatures and her community to protect their enchanted world.\"\"\"\n",
    "\n",
    "storyline_5 = \"\"\"A clumsy office worker finds themselves in the middle of a heist at their \n",
    "            workplace. Through a series of accidental actions, they become an unlikely hero, \n",
    "            proving that courage and quick thinking can arise from the most unexpected people.\"\"\"\n",
    "\n",
    "storyline_6 = \"\"\"An aging rock musician, down on his luck, reconnects with his estranged daughter \n",
    "            after years of absence. Together, they embark on a journey of healing, rediscovering \n",
    "            their passion for music and the bonds of family along the way.\"\"\""
   ]
  },
  {
   "cell_type": "code",
   "execution_count": 103,
   "metadata": {},
   "outputs": [],
   "source": [
    "initial_state = get_initial_state(storyline_1)"
   ]
  },
  {
   "cell_type": "code",
   "execution_count": 104,
   "metadata": {},
   "outputs": [],
   "source": [
    "workflow = WorkflowManager()\n",
    "readflow = workflow.invoke(initial_state)"
   ]
  },
  {
   "cell_type": "code",
   "execution_count": 105,
   "metadata": {},
   "outputs": [
    {
     "data": {
      "text/markdown": [
       "### Summary"
      ],
      "text/plain": [
       "<IPython.core.display.Markdown object>"
      ]
     },
     "metadata": {},
     "output_type": "display_data"
    },
    {
     "data": {
      "text/markdown": [
       "In this intriguing tale, a young and ambitious scientist creates a groundbreaking time machine, driven by his curiosity and desire to explore the unknown. However, his invention inadvertently transports him back to the year 1920, a time vastly different from his own. Stranded in the past, he faces numerous challenges as he attempts to adapt to the social norms, technology, and culture of the early 20th century.\n",
       "\n",
       "As he navigates this unfamiliar world, the scientist encounters a variety of people who shape his journey. He befriends a local inventor who becomes both a mentor and a confidant, offering insights into the era's technological limitations and encouraging him to think creatively about his predicament. Through this friendship, the young scientist gains a deeper appreciation for the ingenuity and resourcefulness required to innovate without modern conveniences.\n",
       "\n",
       "Simultaneously, he meets a spirited young woman who challenges his perceptions and broadens his understanding of the social issues of the time, such as gender roles and economic disparities. Their interactions lead him to reflect on the progress and shortcomings of his own era, prompting him to reconsider his priorities and values.\n",
       "\n",
       "Throughout his adventure, the scientist grapples with the technical difficulties of repairing his time machine, a task complicated by the lack of advanced tools and materials. His determination and problem-solving skills are put to the test as he works tirelessly to find a way back to his own time.\n",
       "\n",
       "In the process, he learns to appreciate the simplicity and authenticity of life in the 1920s, gaining a newfound respect for the resilience and creativity of the people he meets. These experiences teach him important lessons about patience, empathy, and the importance of human connection, which he had previously overlooked in his pursuit of scientific achievement.\n",
       "\n",
       "Ultimately, the young scientist succeeds in repairing his time machine and returns to his own time, forever changed by his journey. Armed with a fresh perspective, he approaches his work and personal life with renewed purpose and a deeper understanding of the world around him. His adventure in the past not only enriches his scientific endeavors but also transforms him into a more compassionate and thoughtful individual, ready to face the future with wisdom and humility."
      ],
      "text/plain": [
       "<IPython.core.display.Markdown object>"
      ]
     },
     "metadata": {},
     "output_type": "display_data"
    },
    {
     "data": {
      "text/markdown": [
       "### Main themes"
      ],
      "text/plain": [
       "<IPython.core.display.Markdown object>"
      ]
     },
     "metadata": {},
     "output_type": "display_data"
    },
    {
     "data": {
      "text/markdown": [
       "Main themes in this storyline include time travel, self-discovery, and adaptation to historical contexts. The protagonist's journey highlights the contrast between past and present, emphasizing personal growth and the importance of understanding one's own time. A rare theme that differentiates this storyline is the exploration of scientific innovation's unintended consequences, as the young scientist must reconcile his futuristic knowledge with the realities of the 1920s."
      ],
      "text/plain": [
       "<IPython.core.display.Markdown object>"
      ]
     },
     "metadata": {},
     "output_type": "display_data"
    },
    {
     "data": {
      "text/markdown": [
       "### Character development"
      ],
      "text/plain": [
       "<IPython.core.display.Markdown object>"
      ]
     },
     "metadata": {},
     "output_type": "display_data"
    },
    {
     "data": {
      "text/markdown": [
       "The young scientist is characterized by curiosity, intelligence, and resourcefulness, evident in his invention of a time machine. His arc involves adapting to the unfamiliar 1920s, showcasing resilience and adaptability. Unique traits include his modern perspective clashing with historical norms, highlighting his ingenuity and open-mindedness. Ultimately, he gains wisdom and appreciation for his present life, reflecting growth and introspection."
      ],
      "text/plain": [
       "<IPython.core.display.Markdown object>"
      ]
     },
     "metadata": {},
     "output_type": "display_data"
    },
    {
     "data": {
      "text/markdown": [
       "### Conflict resolution"
      ],
      "text/plain": [
       "<IPython.core.display.Markdown object>"
      ]
     },
     "metadata": {},
     "output_type": "display_data"
    },
    {
     "data": {
      "text/markdown": [
       "The central conflict is the young scientist's struggle to return to his own time after accidentally traveling to 1920. The main sources of tension include adapting to the past's technological limitations and societal norms, and finding a way to repair or recreate the time machine. The resolution occurs when he successfully returns to the present, having gained insights into his life. This resolution is effective as it not only resolves the immediate conflict but also enriches the protagonist's character, enhancing the story's depth and impact."
      ],
      "text/plain": [
       "<IPython.core.display.Markdown object>"
      ]
     },
     "metadata": {},
     "output_type": "display_data"
    },
    {
     "data": {
      "text/markdown": [
       "### Pacing and structure"
      ],
      "text/plain": [
       "<IPython.core.display.Markdown object>"
      ]
     },
     "metadata": {},
     "output_type": "display_data"
    },
    {
     "data": {
      "text/markdown": [
       "Key moments influencing the story's rhythm include the initial accidental time travel, which heightens tension, and the protagonist's encounters with the local inventor and spirited young woman, which provide both tension and necessary breaks. The technical challenges of repairing the time machine maintain suspense, while moments of reflection on social issues offer pauses for character development. The structure, with its blend of tension and introspection, ensures narrative flow and audience engagement. However, the storyline could benefit from more exploration of the protagonist's internal conflict and the ethical implications of time travel to deepen thematic impact."
      ],
      "text/plain": [
       "<IPython.core.display.Markdown object>"
      ]
     },
     "metadata": {},
     "output_type": "display_data"
    },
    {
     "data": {
      "text/markdown": [
       "### Pros"
      ],
      "text/plain": [
       "<IPython.core.display.Markdown object>"
      ]
     },
     "metadata": {},
     "output_type": "display_data"
    },
    {
     "data": {
      "text/markdown": [
       "The storyline of a young scientist inventing a time machine and accidentally traveling back to 1920 is rich with positive elements that enhance the narrative. Here are some of the strengths and elements that work well:\n",
       "\n",
       "1. **Engaging Premise**: The concept of time travel is inherently intriguing and offers a wealth of possibilities for storytelling. The accidental journey to 1920 provides a fresh take on the genre, allowing for exploration of historical contexts and the contrast between past and present.\n",
       "\n",
       "2. **Character Development**: The protagonist's journey is a compelling arc of self-discovery and growth. His initial curiosity and intelligence are tested as he navigates the challenges of the past, leading to significant personal development. His transformation from a purely scientific mindset to one that values human connection and empathy adds depth to his character.\n",
       "\n",
       "3. **Historical Exploration**: The setting of 1920 offers a rich backdrop for the story. The protagonist's interactions with the era's social norms, technology, and culture provide a fascinating exploration of history. This not only educates the audience but also highlights the progress and challenges of both the past and present.\n",
       "\n",
       "4. **Supporting Characters**: The inclusion of a local inventor and a spirited young woman as key figures in the protagonist's journey adds layers to the narrative. These characters serve as catalysts for the protagonist's growth, offering mentorship, friendship, and new perspectives on social issues.\n",
       "\n",
       "5. **Themes of Innovation and Consequence**: The storyline effectively explores the unintended consequences of scientific innovation. The protagonist's struggle to reconcile his futuristic knowledge with the realities of the 1920s underscores the theme of innovation's impact on society and the individual.\n",
       "\n",
       "6. **Conflict and Resolution**: The central conflict of returning to his own time is well-structured, with tension arising from technological and societal challenges. The resolution is satisfying, as it not only resolves the immediate conflict but also leaves the protagonist with valuable insights and a renewed sense of purpose.\n",
       "\n",
       "7. **Pacing and Structure**: The narrative is well-paced, balancing moments of tension with character-driven scenes that allow for introspection and growth. The structure supports the protagonist's journey, with each challenge and interaction contributing to his ultimate transformation.\n",
       "\n",
       "Overall, the storyline is strengthened by its engaging premise, well-developed characters, historical exploration, and thoughtful themes. These elements work together to create a narrative that is both entertaining and thought-provoking, leaving a lasting impact on the audience."
      ],
      "text/plain": [
       "<IPython.core.display.Markdown object>"
      ]
     },
     "metadata": {},
     "output_type": "display_data"
    },
    {
     "data": {
      "text/markdown": [
       "### Cons"
      ],
      "text/plain": [
       "<IPython.core.display.Markdown object>"
      ]
     },
     "metadata": {},
     "output_type": "display_data"
    },
    {
     "data": {
      "text/markdown": [
       "Identifying negative points in the storyline and suggesting opportunities for improvement involves analyzing various aspects such as character development, themes, conflict resolution, and pacing. Here are some potential areas for improvement:\n",
       "\n",
       "1. **Lack of Depth in Supporting Characters:**\n",
       "   - **Opportunity for Improvement:** The storyline could benefit from more detailed development of supporting characters, such as the local inventor and the spirited young woman. Providing them with their own arcs or backstories could enrich the narrative and create more meaningful interactions with the protagonist.\n",
       "\n",
       "2. **Predictability of the Plot:**\n",
       "   - **Opportunity for Improvement:** The storyline follows a somewhat predictable arc of accidental time travel, adaptation, and eventual return. Introducing unexpected twists or challenges could add intrigue and maintain reader engagement. For example, the time machine could have unforeseen consequences on the 1920s world, creating additional layers of conflict.\n",
       "\n",
       "3. **Limited Exploration of Historical Context:**\n",
       "   - **Opportunity for Improvement:** While the protagonist navigates the 1920s, the story could delve deeper into the historical context, exploring significant events or cultural shifts of the era. This would provide a richer backdrop and enhance the contrast between past and present.\n",
       "\n",
       "4. **Simplistic Resolution of Conflict:**\n",
       "   - **Opportunity for Improvement:** The resolution of the central conflict—repairing the time machine and returning to the present—seems straightforward. Adding complexity to this process, such as ethical dilemmas or moral choices, could deepen the protagonist's journey and provide more substantial character growth.\n",
       "\n",
       "5. **Underdeveloped Themes of Scientific Innovation:**\n",
       "   - **Opportunity for Improvement:** The theme of scientific innovation's unintended consequences is touched upon but could be explored more thoroughly. The protagonist could face moral questions about the impact of his invention on both the past and future, prompting deeper reflection on the responsibilities of a scientist.\n",
       "\n",
       "6. **Pacing and Structure:**\n",
       "   - **Opportunity for Improvement:** The pacing could be adjusted to allow for more gradual development of the protagonist's transformation. Key moments of introspection or pivotal interactions could be expanded to provide a more nuanced portrayal of his growth.\n",
       "\n",
       "7. **Missed Opportunities for Emotional Depth:**\n",
       "   - **Opportunity for Improvement:** The storyline could incorporate more emotional depth by exploring the protagonist's internal struggles, such as feelings of isolation or homesickness. This would create a more relatable and compelling character arc.\n",
       "\n",
       "By addressing these areas, the storyline could achieve greater complexity, emotional resonance, and thematic richness, ultimately enhancing the overall impact of the narrative."
      ],
      "text/plain": [
       "<IPython.core.display.Markdown object>"
      ]
     },
     "metadata": {},
     "output_type": "display_data"
    },
    {
     "data": {
      "text/markdown": [
       "### Marketability"
      ],
      "text/plain": [
       "<IPython.core.display.Markdown object>"
      ]
     },
     "metadata": {},
     "output_type": "display_data"
    },
    {
     "data": {
      "text/markdown": [
       "The storyline's marketability lies in its blend of time travel, historical exploration, and personal growth, appealing to audiences interested in science fiction and character-driven narratives. Key elements include the protagonist's journey of self-discovery, the contrast between past and present, and the exploration of scientific innovation's unintended consequences. Challenges may include ensuring historical accuracy and avoiding clichés in time travel narratives. Additionally, balancing the technical aspects of time travel with character development is crucial to maintain audience engagement."
      ],
      "text/plain": [
       "<IPython.core.display.Markdown object>"
      ]
     },
     "metadata": {},
     "output_type": "display_data"
    },
    {
     "data": {
      "text/markdown": [
       "### Story line"
      ],
      "text/plain": [
       "<IPython.core.display.Markdown object>"
      ]
     },
     "metadata": {},
     "output_type": "display_data"
    },
    {
     "data": {
      "text/markdown": [
       "A young scientist invents a time machine and accidentally \n",
       "            travels back to the year 1920, where he must navigate the challenges \n",
       "            of the past while trying to return to his own time, \n",
       "            ultimately learning valuable lessons about his present life."
      ],
      "text/plain": [
       "<IPython.core.display.Markdown object>"
      ]
     },
     "metadata": {},
     "output_type": "display_data"
    }
   ],
   "source": [
    "display_outputs(readflow)"
   ]
  },
  {
   "cell_type": "code",
   "execution_count": null,
   "metadata": {},
   "outputs": [],
   "source": []
  }
 ],
 "metadata": {
  "kernelspec": {
   "display_name": ".env",
   "language": "python",
   "name": "python3"
  },
  "language_info": {
   "codemirror_mode": {
    "name": "ipython",
    "version": 3
   },
   "file_extension": ".py",
   "mimetype": "text/x-python",
   "name": "python",
   "nbconvert_exporter": "python",
   "pygments_lexer": "ipython3",
   "version": "3.9.19"
  }
 },
 "nbformat": 4,
 "nbformat_minor": 2
}
