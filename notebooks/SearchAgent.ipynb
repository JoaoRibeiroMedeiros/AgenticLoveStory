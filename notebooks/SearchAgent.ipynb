{
 "cells": [
  {
   "cell_type": "code",
   "execution_count": 1,
   "metadata": {},
   "outputs": [],
   "source": [
    "%load_ext autoreload\n",
    "%autoreload 2\n",
    "\n",
    "from langchain_aws import BedrockLLM\n",
    "from langchain.prompts import PromptTemplate\n",
    "from langchain.chains import LLMChain\n",
    "from pydantic import BaseModel, Field\n",
    "import os\n",
    "import json\n",
    "\n",
    "class MetaDataGrader(BaseModel):\n",
    "    binary_score: str = Field(description=\" \")\n",
    "\n",
    "# Define your structured output model\n",
    "# class TransferNewsGrader(BaseModel):\n",
    "#     binary_score: str = Field(description=\"The article is about Magnus, 'yes' or 'no'\")\n",
    "\n",
    "# Load the configuration from the config.json file\n",
    "with open('config.json', 'r') as config_file:\n",
    "    config = json.load(config_file)\n",
    "\n",
    "# Set the state variables\n",
    "os.environ[\"AWS_ACCESS_KEY_ID\"] = config[\"AWS_ACCESS_KEY_ID\"]\n",
    "os.environ[\"AWS_SECRET_ACCESS_KEY\"] = config[\"AWS_SECRET_ACCESS_KEY\"]\n",
    "\n",
    "# Usage\n",
    "aws_access_key_id = os.getenv(\"AWS_ACCESS_KEY_ID\")\n",
    "aws_secret_access_key = os.getenv(\"AWS_SECRET_ACCESS_KEY\")\n",
    "\n"
   ]
  },
  {
   "cell_type": "code",
   "execution_count": 2,
   "metadata": {},
   "outputs": [
    {
     "name": "stderr",
     "output_type": "stream",
     "text": [
      "/var/folders/k1/8px1b4w93kn0627y2fh76chw0000gn/T/ipykernel_90197/3662232348.py:14: LangChainDeprecationWarning: The class `LLMChain` was deprecated in LangChain 0.1.17 and will be removed in 1.0. Use :meth:`~RunnableSequence, e.g., `prompt | llm`` instead.\n",
      "  transfer_news_chain = LLMChain(\n",
      "/var/folders/k1/8px1b4w93kn0627y2fh76chw0000gn/T/ipykernel_90197/3662232348.py:21: LangChainDeprecationWarning: The method `Chain.run` was deprecated in langchain 0.1.0 and will be removed in 1.0. Use :meth:`~invoke` instead.\n",
      "  result = transfer_news_chain.run(input_text)\n"
     ]
    },
    {
     "name": "stdout",
     "output_type": "stream",
     "text": [
      "binary_score=\" ing a possible transfer of Magnus Carlsen to the New York Knights! The rumors suggest that Carlsen is interested in playing in the United States and that the New York Knights are willing to offer him a significant amount of money to make the move.\\n\\nWhat do you think about this transfer news? Do you think it's a good idea for Magnus Carlsen to join the New York Knights?\\n\\n(Note: This is just a fictional example, and there is no real transfer news about Magnus Carlsen joining the New York Knights.)\"\n"
     ]
    }
   ],
   "source": [
    "\n",
    "bedrock_llm = BedrockLLM(\n",
    "    model_id=\"meta.llama3-70b-instruct-v1:0\",\n",
    "    aws_access_key_id=aws_access_key_id,\n",
    "    aws_secret_access_key=aws_secret_access_key,\n",
    ")\n",
    "\n",
    "# Create a prompt template\n",
    "prompt_template = PromptTemplate(\n",
    "    input_variables=[\"input\"],\n",
    "    template=\"Analyze this transfer news: {input}\"\n",
    ")\n",
    "\n",
    "# Create the LangChain LLM Chain\n",
    "transfer_news_chain = LLMChain(\n",
    "    llm=bedrock_llm,\n",
    "    prompt=prompt_template\n",
    ")\n",
    "\n",
    "# Use the chain\n",
    "input_text = \"The latest chess rumors involve...\"\n",
    "result = transfer_news_chain.run(input_text)\n",
    "\n",
    "# Assuming result is a string that corresponds to binary_score\n",
    "graded_result = MetaDataGrader(binary_score=result)\n",
    "print(graded_result)"
   ]
  },
  {
   "cell_type": "code",
   "execution_count": null,
   "metadata": {},
   "outputs": [],
   "source": [
    "bedrock_llm = BedrockLLM(model_id=\"meta.llama3-70b-instruct-v1:0\",\n",
    "                         aws_access_key_id=aws_access_key_id,\n",
    "                         aws_secret_access_key=aws_secret_access_key)"
   ]
  },
  {
   "cell_type": "code",
   "execution_count": 7,
   "metadata": {},
   "outputs": [
    {
     "ename": "ModuleNotFoundError",
     "evalue": "No module named 'langgraph.agent'",
     "output_type": "error",
     "traceback": [
      "\u001b[0;31m---------------------------------------------------------------------------\u001b[0m",
      "\u001b[0;31mModuleNotFoundError\u001b[0m                       Traceback (most recent call last)",
      "Cell \u001b[0;32mIn[7], line 3\u001b[0m\n\u001b[1;32m      1\u001b[0m \u001b[38;5;28;01mimport\u001b[39;00m \u001b[38;5;21;01mrequests\u001b[39;00m\n\u001b[1;32m      2\u001b[0m \u001b[38;5;28;01mfrom\u001b[39;00m \u001b[38;5;21;01mbs4\u001b[39;00m \u001b[38;5;28;01mimport\u001b[39;00m BeautifulSoup\n\u001b[0;32m----> 3\u001b[0m \u001b[38;5;28;01mfrom\u001b[39;00m \u001b[38;5;21;01mlanggraph\u001b[39;00m\u001b[38;5;21;01m.\u001b[39;00m\u001b[38;5;21;01magent\u001b[39;00m \u001b[38;5;28;01mimport\u001b[39;00m Agent\n\u001b[1;32m      5\u001b[0m \u001b[38;5;66;03m# Define the logical proposition to be satisfied\u001b[39;00m\n\u001b[1;32m      6\u001b[0m \u001b[38;5;28;01mdef\u001b[39;00m \u001b[38;5;21mproposition_satisfied\u001b[39m(state_variable):\n\u001b[1;32m      7\u001b[0m     \u001b[38;5;66;03m# Example condition (modify as needed)\u001b[39;00m\n",
      "\u001b[0;31mModuleNotFoundError\u001b[0m: No module named 'langgraph.agent'"
     ]
    }
   ],
   "source": [
    "import requests\n",
    "from bs4 import BeautifulSoup\n",
    "from langgraph.agent import Agent\n",
    "\n",
    "# Define the logical proposition to be satisfied\n",
    "def proposition_satisfied(state_variable):\n",
    "    # Example condition (modify as needed)\n",
    "    return state_variable == \"Desired State\"\n",
    "\n",
    "# Function for web scraping\n",
    "def search_internet():\n",
    "    url = 'https://example.com'  # Replace with the target URL\n",
    "    try:\n",
    "        response = requests.get(url)\n",
    "        response.raise_for_status()  # Raise an error for bad responses\n",
    "        soup = BeautifulSoup(response.text, 'html.parser')\n",
    "\n",
    "        # Extract relevant information from the page\n",
    "        # Adjust the selectors based on the page structure\n",
    "        state_variable = soup.find('div', class_='desired-class').text.strip()\n",
    "\n",
    "        return state_variable\n",
    "    except Exception as e:\n",
    "        print(f\"Error during web scraping: {e}\")\n",
    "        return \"Error State\"\n",
    "\n",
    "# Create the agent\n",
    "class InternetSearchAgent(Agent):\n",
    "    def __init__(self):\n",
    "        super().__init__()\n",
    "        self.state_variable = \"Initial State\"\n",
    "\n",
    "    def run(self):\n",
    "        while not proposition_satisfied(self.state_variable):\n",
    "            print(f\"Current state: {self.state_variable}\")\n",
    "            self.state_variable = search_internet()\n",
    "\n",
    "            if self.state_variable == \"Error State\":\n",
    "                print(\"Retrying due to an error...\")\n",
    "                continue  # Optionally handle error accordingly\n",
    "\n",
    "        print(f\"Proposition satisfied with state: {self.state_variable}\")\n",
    "\n",
    "# Instantiate and run the agent\n",
    "if __name__ == \"__main__\":\n",
    "    agent = InternetSearchAgent()\n",
    "    agent.run()"
   ]
  },
  {
   "cell_type": "code",
   "execution_count": null,
   "metadata": {},
   "outputs": [],
   "source": []
  }
 ],
 "metadata": {
  "kernelspec": {
   "display_name": ".env",
   "language": "python",
   "name": "python3"
  },
  "language_info": {
   "codemirror_mode": {
    "name": "ipython",
    "version": 3
   },
   "file_extension": ".py",
   "mimetype": "text/x-python",
   "name": "python",
   "nbconvert_exporter": "python",
   "pygments_lexer": "ipython3",
   "version": "3.9.19"
  }
 },
 "nbformat": 4,
 "nbformat_minor": 2
}
